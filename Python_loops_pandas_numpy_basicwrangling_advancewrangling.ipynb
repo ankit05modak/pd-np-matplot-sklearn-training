{
  "nbformat": 4,
  "nbformat_minor": 0,
  "metadata": {
    "colab": {
      "provenance": [],
      "collapsed_sections": [
        "7YHKDtmQQgQT",
        "OqBLpF6xXd81"
      ],
      "toc_visible": true,
      "authorship_tag": "ABX9TyOz2aaxSIZDGHnb6SowaRjx",
      "include_colab_link": true
    },
    "kernelspec": {
      "name": "python3",
      "display_name": "Python 3"
    },
    "language_info": {
      "name": "python"
    }
  },
  "cells": [
    {
      "cell_type": "markdown",
      "metadata": {
        "id": "view-in-github",
        "colab_type": "text"
      },
      "source": [
        "<a href=\"https://colab.research.google.com/github/ankit05modak/pd-np-matplot-sklearn-training/blob/main/Python_loops_pandas_numpy_basicwrangling_advancewrangling.ipynb\" target=\"_parent\"><img src=\"https://colab.research.google.com/assets/colab-badge.svg\" alt=\"Open In Colab\"/></a>"
      ]
    },
    {
      "cell_type": "markdown",
      "source": [
        "# Python Programming for Data Science\n",
        "### By Thomas Beuzen \n",
        "https://github.com/TomasBeuzen/python-programming-for-data-science/tree/main/practice-exercises\n",
        "\n",
        "Solved..."
      ],
      "metadata": {
        "id": "ovZJ4jyxHcAu"
      }
    },
    {
      "cell_type": "markdown",
      "source": [
        "## Python Basics"
      ],
      "metadata": {
        "id": "rPHKeSdE790V"
      }
    },
    {
      "cell_type": "code",
      "execution_count": 1,
      "metadata": {
        "colab": {
          "base_uri": "https://localhost:8080/"
        },
        "id": "Panze1RJFyZZ",
        "outputId": "378b599a-4c1f-4aa9-ea2f-2a026b7e4b62"
      },
      "outputs": [
        {
          "output_type": "execute_result",
          "data": {
            "text/plain": [
              "3125"
            ]
          },
          "metadata": {},
          "execution_count": 1
        }
      ],
      "source": [
        "# What is 5 to the power of 5\n",
        "#1 \n",
        "pow(5, 5)\n",
        "\n",
        "#2\n",
        "5**5"
      ]
    },
    {
      "cell_type": "code",
      "source": [
        "# What is the remainder from dividing 73 by 6?\n",
        "76 % 6"
      ],
      "metadata": {
        "colab": {
          "base_uri": "https://localhost:8080/"
        },
        "id": "ftiH03QxHuyV",
        "outputId": "eec2b1b0-7f9f-42b1-c868-e8eed5dd6f18"
      },
      "execution_count": 2,
      "outputs": [
        {
          "output_type": "execute_result",
          "data": {
            "text/plain": [
              "4"
            ]
          },
          "metadata": {},
          "execution_count": 2
        }
      ]
    },
    {
      "cell_type": "code",
      "source": [
        "# How many times does the whole number 3 go into 123? What is the remainder of dividing 123 by 3?\n",
        "123 % 3, round(123 / 3)"
      ],
      "metadata": {
        "colab": {
          "base_uri": "https://localhost:8080/"
        },
        "id": "pb6sRfJIIurR",
        "outputId": "9f910080-45ab-44fb-f752-840bffbbe769"
      },
      "execution_count": 3,
      "outputs": [
        {
          "output_type": "execute_result",
          "data": {
            "text/plain": [
              "(0, 41)"
            ]
          },
          "metadata": {},
          "execution_count": 3
        }
      ]
    },
    {
      "cell_type": "code",
      "source": [
        "# Split the following string into a list by splitting on the space character:\n",
        "s = \"MDS is going virtual!\"\n",
        "\n",
        "s.split(\" \")"
      ],
      "metadata": {
        "colab": {
          "base_uri": "https://localhost:8080/"
        },
        "id": "7gHjVShnI3_q",
        "outputId": "7b572e0a-27ad-42e6-9044-edfc0d102dcc"
      },
      "execution_count": 4,
      "outputs": [
        {
          "output_type": "execute_result",
          "data": {
            "text/plain": [
              "['MDS', 'is', 'going', 'virtual!']"
            ]
          },
          "metadata": {},
          "execution_count": 4
        }
      ]
    },
    {
      "cell_type": "code",
      "source": [
        "# Given the following variables:\n",
        "\n",
        "thing = \"light\"\n",
        "speed = 299792458  # m/s\n",
        "# Use f-strings to print:\n",
        "# The speed of light is 2.997925e+08 m/s.\n",
        "\n",
        "print(f\"The speed of the {thing} is {speed:2e} m/s\")"
      ],
      "metadata": {
        "colab": {
          "base_uri": "https://localhost:8080/"
        },
        "id": "GjKlOX50JM2B",
        "outputId": "d402ceb7-d273-435a-bf76-39aac4e7526e"
      },
      "execution_count": 5,
      "outputs": [
        {
          "output_type": "stream",
          "name": "stdout",
          "text": [
            "The speed of the light is 2.997925e+08 m/s\n"
          ]
        }
      ]
    },
    {
      "cell_type": "code",
      "source": [
        "# Given this nested list, use indexing to grab the word \"MDS\":\n",
        "l = [10, [3, 4], [5, [100, 200, [\"MDS\"]], 23, 11], 1, 7]\n",
        "\n",
        "l[2][1][2]"
      ],
      "metadata": {
        "colab": {
          "base_uri": "https://localhost:8080/"
        },
        "id": "9g0okn3lJ75_",
        "outputId": "e3417a27-0d5b-487d-9e06-6717e3e28be5"
      },
      "execution_count": 6,
      "outputs": [
        {
          "output_type": "execute_result",
          "data": {
            "text/plain": [
              "['MDS']"
            ]
          },
          "metadata": {},
          "execution_count": 6
        }
      ]
    },
    {
      "cell_type": "code",
      "source": [
        "# Given this nest dictionary grab the word \"MDS\":\n",
        "d = {\n",
        "    \"outer\": [\n",
        "        1,\n",
        "        2,\n",
        "        3,\n",
        "        {\"inner\": [\"this\", \"is\", \"inception\", {\"inner_inner\": [1, 2, 3, \"MDS\"]}]},\n",
        "    ]\n",
        "}\n",
        "\n",
        "d[\"outer\"][3][\"inner\"][3][\"inner_inner\"][3]"
      ],
      "metadata": {
        "colab": {
          "base_uri": "https://localhost:8080/",
          "height": 36
        },
        "id": "oDv4GFQyK-FI",
        "outputId": "86065557-c839-4c27-d278-0681502d498e"
      },
      "execution_count": 7,
      "outputs": [
        {
          "output_type": "execute_result",
          "data": {
            "text/plain": [
              "'MDS'"
            ],
            "application/vnd.google.colaboratory.intrinsic+json": {
              "type": "string"
            }
          },
          "metadata": {},
          "execution_count": 7
        }
      ]
    },
    {
      "cell_type": "code",
      "source": [
        "# # Why does the following cell return an error?\n",
        "# t = (1, 2, 3, 4, 5)\n",
        "# t[-1] = 6\n",
        "\n",
        "# # Because tuples are immutable. One cannot assign new values to a tuple."
      ],
      "metadata": {
        "id": "WkdSchaiL3mX"
      },
      "execution_count": 8,
      "outputs": []
    },
    {
      "cell_type": "code",
      "source": [
        "# Use string methods to extract the website domain from an email, e.g., from the string \"tomas.beuzen@fakemail.com\", you should extract \"fakemail\".\n",
        "email = \"tomas.beuzen@fakemail.com\"\n",
        "# email.split(\".\")[1].split(\"@\")[1]\n",
        "\n",
        "# The above answer is less practical and logical because first we are splitting using \".\" which is very less likely to be in every email id's but \"@\" is going to be in every id followerd by .com\n",
        "email.split(\"@\")[-1].split(\".com\")[0]"
      ],
      "metadata": {
        "colab": {
          "base_uri": "https://localhost:8080/",
          "height": 36
        },
        "id": "dU7DpDXzL9hH",
        "outputId": "70fd4785-1373-49b0-9294-19fc1614553c"
      },
      "execution_count": 9,
      "outputs": [
        {
          "output_type": "execute_result",
          "data": {
            "text/plain": [
              "'fakemail'"
            ],
            "application/vnd.google.colaboratory.intrinsic+json": {
              "type": "string"
            }
          },
          "metadata": {},
          "execution_count": 9
        }
      ]
    },
    {
      "cell_type": "code",
      "source": [
        "# Given the variable language which contains a string, use if/elif/else to write a program that:\n",
        "# return \"I love snakes!\" if language is \"python\" (any kind of capitalization)\n",
        "# return \"Are you a pirate?\" if language is \"R\" (any kind of capitalization)\n",
        "# else return \"What is language?\" if language is anything else.\n",
        "\n",
        "\n",
        "language = \"python\"\n",
        "if language.lower() == \"python\":\n",
        "  print(\"I love snakes!\")\n",
        "elif lanuage.lower() == \"r\":\n",
        "  print(\"Are you a pirate?\")\n",
        "else:\n",
        "  print(\"What is language?\")\n"
      ],
      "metadata": {
        "colab": {
          "base_uri": "https://localhost:8080/"
        },
        "id": "5yuTkSrBMcBd",
        "outputId": "20a0a3fe-ba14-435e-c4e5-d2a1c9aa5abf"
      },
      "execution_count": 10,
      "outputs": [
        {
          "output_type": "stream",
          "name": "stdout",
          "text": [
            "I love snakes!\n"
          ]
        }
      ]
    },
    {
      "cell_type": "markdown",
      "source": [
        "## Loops and Functions"
      ],
      "metadata": {
        "id": "n4pnT-fZNok-"
      }
    },
    {
      "cell_type": "code",
      "source": [
        "# Create a function website() that grabs the website domain from a url string. For example, if your function is passed \"www.google.com\", it should return \"google\".\n",
        "def website(url):\n",
        "  return url.split(\".\")[1]\n",
        "\n",
        "website(\"www.google.com\")"
      ],
      "metadata": {
        "colab": {
          "base_uri": "https://localhost:8080/",
          "height": 36
        },
        "id": "NRs5mZxp7Siy",
        "outputId": "c9f9937e-fe9d-4994-883d-15fc652f6cf4"
      },
      "execution_count": 11,
      "outputs": [
        {
          "output_type": "execute_result",
          "data": {
            "text/plain": [
              "'google'"
            ],
            "application/vnd.google.colaboratory.intrinsic+json": {
              "type": "string"
            }
          },
          "metadata": {},
          "execution_count": 11
        }
      ]
    },
    {
      "cell_type": "code",
      "source": [
        "# Create a function divisible(a, b) that accepts two integers (a and b) and returns True if a is divisble by b without a remainder. \n",
        "# For example, divisible(10, 3) should return False, while divisible(6, 3) should return True.\n",
        "def divisible(a, b):\n",
        "  if a % b == 0:\n",
        "    return True\n",
        "  else:\n",
        "    return False\n",
        "\n",
        "divisible(10, 2)\n"
      ],
      "metadata": {
        "colab": {
          "base_uri": "https://localhost:8080/"
        },
        "id": "IUaXiAbD7p6n",
        "outputId": "dfba4b5a-b2df-45ef-fbaf-7bcd95cf9dd1"
      },
      "execution_count": 12,
      "outputs": [
        {
          "output_type": "execute_result",
          "data": {
            "text/plain": [
              "True"
            ]
          },
          "metadata": {},
          "execution_count": 12
        }
      ]
    },
    {
      "cell_type": "code",
      "source": [
        "# Use list comprehension to square every number in the following list of numbers.\n",
        "l = [1, 2, 3, 4, 5, 6, 7, 8, 9]\n",
        "d = [item**2 for item in l]\n",
        "d"
      ],
      "metadata": {
        "colab": {
          "base_uri": "https://localhost:8080/"
        },
        "id": "DM-RvWKT8N6G",
        "outputId": "bfae6105-d5ab-4021-cf33-82ed0cc281b6"
      },
      "execution_count": 13,
      "outputs": [
        {
          "output_type": "execute_result",
          "data": {
            "text/plain": [
              "[1, 4, 9, 16, 25, 36, 49, 64, 81]"
            ]
          },
          "metadata": {},
          "execution_count": 13
        }
      ]
    },
    {
      "cell_type": "code",
      "source": [
        "# For the following list of names, write a list comprehension that creates a list of only words that start with a capital letter (hint: str.isupper()).\n",
        "names = ['Steve Irwin', 'koala', 'kangaroo', 'Australia', 'Sydney', 'desert']\n",
        "\n",
        "[item for item in names if item[0].isupper()]"
      ],
      "metadata": {
        "colab": {
          "base_uri": "https://localhost:8080/"
        },
        "id": "SeKqp3Jy9MpJ",
        "outputId": "35f29905-d787-46ed-a9fc-316c2051f7f7"
      },
      "execution_count": 14,
      "outputs": [
        {
          "output_type": "execute_result",
          "data": {
            "text/plain": [
              "['Steve Irwin', 'Australia', 'Sydney']"
            ]
          },
          "metadata": {},
          "execution_count": 14
        }
      ]
    },
    {
      "cell_type": "code",
      "source": [
        "# For the following list of keys and vals use dictionary comprehension to create a dictionary of the form {'key-0': 0, 'key-1': 1, etc} \n",
        "# (hint: zip() can help you combine two lists into on object to be used for comprehension/looping).\n",
        "\n",
        "keys = [f\"key-{k}\" for k in range(10)]\n",
        "vals = range(10)\n",
        "\n",
        "{k:v for k, v in zip(keys, vals)}"
      ],
      "metadata": {
        "colab": {
          "base_uri": "https://localhost:8080/"
        },
        "id": "aRw-MR-KAGeX",
        "outputId": "685c62ca-728f-4902-83fc-0fc78f62eb82"
      },
      "execution_count": 15,
      "outputs": [
        {
          "output_type": "execute_result",
          "data": {
            "text/plain": [
              "{'key-0': 0,\n",
              " 'key-1': 1,\n",
              " 'key-2': 2,\n",
              " 'key-3': 3,\n",
              " 'key-4': 4,\n",
              " 'key-5': 5,\n",
              " 'key-6': 6,\n",
              " 'key-7': 7,\n",
              " 'key-8': 8,\n",
              " 'key-9': 9}"
            ]
          },
          "metadata": {},
          "execution_count": 15
        }
      ]
    },
    {
      "cell_type": "code",
      "source": [
        "# This question is a little harder. Create a generator function called listgen(n) that yields numbers from 0 to n, in batches of lists of maximum 10 numbers at a time. \n",
        "# For example, your function should behave as follows:\n",
        "\n",
        "def listgen(n):\n",
        "    counter = 0\n",
        "    numbers = list(range(n))\n",
        "    while counter <= n // 10:\n",
        "        yield numbers[10 * counter:10*(counter+1)]\n",
        "        counter += 1\n",
        "\n",
        "g = listgen(5)\n",
        "\n",
        "next(g)"
      ],
      "metadata": {
        "colab": {
          "base_uri": "https://localhost:8080/"
        },
        "id": "dX-GG93rA1Of",
        "outputId": "1cf0fed0-1c26-4826-ba00-63de33f3edaa"
      },
      "execution_count": 16,
      "outputs": [
        {
          "output_type": "execute_result",
          "data": {
            "text/plain": [
              "[0, 1, 2, 3, 4]"
            ]
          },
          "metadata": {},
          "execution_count": 16
        }
      ]
    },
    {
      "cell_type": "code",
      "source": [
        "# Write a try/except to catch the error generated from the following code and print “I caught you!”. \n",
        "# Make sure you catch the specific error being caused, this is typically better practice than just catching all errors!\n",
        "\n",
        "try:\n",
        "  5 / 0\n",
        "except ZeroDivisionError:\n",
        "  print(\"I caught you!\")"
      ],
      "metadata": {
        "colab": {
          "base_uri": "https://localhost:8080/"
        },
        "id": "1ftGdatuBlRR",
        "outputId": "cacf83d8-1fc3-4062-ddea-4cafaf30132b"
      },
      "execution_count": 17,
      "outputs": [
        {
          "output_type": "stream",
          "name": "stdout",
          "text": [
            "I caught you!\n"
          ]
        }
      ]
    },
    {
      "cell_type": "code",
      "source": [
        "# Create a function lucky_sum() that takes all the integers a user enters and returns their sum. However, if one of the values is 13 then it does not count towards the sum, nor do any values to its right.\n",
        "\n",
        "# For example, your function should behave as follows:\n",
        "\n",
        "# lucky_sum(1, 2, 3, 4)\n",
        "# 10\n",
        "\n",
        "# lucky_sum(1, 13, 3, 4)\n",
        "# 1\n",
        "\n",
        "# lucky_sum(13)\n",
        "\n",
        "def lucky_sum(*args):\n",
        "  if 13 in args:\n",
        "    return sum(args[:args.index(13)])\n",
        "  else:\n",
        "    return sum(args)\n",
        "\n",
        "lucky_sum(1, 13, 3, 4)"
      ],
      "metadata": {
        "colab": {
          "base_uri": "https://localhost:8080/"
        },
        "id": "2v6eVZj9HH5y",
        "outputId": "4df85619-2c96-4dcb-8437-fd693b8563d1"
      },
      "execution_count": 18,
      "outputs": [
        {
          "output_type": "execute_result",
          "data": {
            "text/plain": [
              "1"
            ]
          },
          "metadata": {},
          "execution_count": 18
        }
      ]
    },
    {
      "cell_type": "markdown",
      "source": [
        "## Unit Test and Classes "
      ],
      "metadata": {
        "id": "7YHKDtmQQgQT"
      }
    },
    {
      "cell_type": "code",
      "source": [
        "\"\"\"The function area() accepts the argument radius and calculates the area of a circle. Write three tests using assert statements for the following conditions:\n",
        "\n",
        "Assert that area(1) returns a float;\n",
        "\n",
        "Assert that area(0) returns a value of 0;\n",
        "\n",
        "Assert that area(5) is approximately equal to 78.5 (hint: math.isclose(..., abs_tol=0.1))\"\"\"\n",
        "import math\n",
        "def area(radius):\n",
        "  \"\"\"Calculate the area of a circle based on the given radius.\"\"\"\n",
        "  return math.pi * radius ** 2\n",
        "\n",
        "assert isinstance(area(1), float), \"Test 1 failed\"\n",
        "assert area(0) == 0, \"Test 2 failed\"\n",
        "assert math.isclose(area(5), 78.5, abs_tol=0.1), \"Test 3 failed\""
      ],
      "metadata": {
        "id": "G1EiXhcgQjqY"
      },
      "execution_count": 19,
      "outputs": []
    },
    {
      "cell_type": "code",
      "source": [
        "\"\"\"In the spirit of the EAFP (easier to ask for forgiveness than permission) philosophy. Modify the code of the function area() and add a \n",
        "try/except statement to catch the type error raised by passing a string to area() as shown below:\"\"\"\n",
        "\n",
        "def area(radius):\n",
        "  try:\n",
        "    return math.pi * radius ** 2\n",
        "  except TypeError:\n",
        "    print(f\"The radis is supposed to be a number but you entered {type(radius)}\")\n",
        "  else:\n",
        "    print(\"Some error occured.\")\n",
        "\n",
        "area(\"5\")"
      ],
      "metadata": {
        "colab": {
          "base_uri": "https://localhost:8080/"
        },
        "id": "J2fUsp5cREX3",
        "outputId": "0ec2eecd-57ce-4d22-ce3c-470f9f3c5e17"
      },
      "execution_count": 20,
      "outputs": [
        {
          "output_type": "stream",
          "name": "stdout",
          "text": [
            "The radis is supposed to be a number but you entered <class 'str'>\n"
          ]
        }
      ]
    },
    {
      "cell_type": "code",
      "source": [
        "\"\"\"In the spirit of the LBYL (look before you leap) philosophy. Modify the code of the function area() \n",
        "and add a conditional if/else statement to make sure that a user has passed a number (int or float) to the area() function. If they pass something else, raise a TypeError.\"\"\"\n",
        "\n",
        "def area(radius):\n",
        "  if isinstance(radius, (int, float)):\n",
        "    return math.pi * radius ** 2\n",
        "  else:\n",
        "    print(f\"The type of radius should be a numerical value. But you entered {type(radius)}\")\n",
        "\n",
        "area(5)"
      ],
      "metadata": {
        "colab": {
          "base_uri": "https://localhost:8080/"
        },
        "id": "s4efYNpqSwGy",
        "outputId": "07865c69-9a01-4d0a-af1d-d56152750da6"
      },
      "execution_count": 21,
      "outputs": [
        {
          "output_type": "execute_result",
          "data": {
            "text/plain": [
              "78.53981633974483"
            ]
          },
          "metadata": {},
          "execution_count": 21
        }
      ]
    },
    {
      "cell_type": "code",
      "source": [
        "\"\"\"\n",
        "For this exercise I want you to create a class called circle. It should have the following characteristics:\n",
        "\n",
        "It should be initiated with the argument radius and store this as an instance attribute.\n",
        "\n",
        "Have a method area() which calculates the area of the circle.\n",
        "\n",
        "Have a method circumference() which calculates the circumference of the circle.\n",
        "\n",
        "Have the method __str__() which is a special method in Python and controls what is output to the screen when you print() an instance of your class (learn more here). \n",
        "The print() statement should print the string f\"A Circle with radius {self.radius}\".\n",
        "\n",
        "I’ve provided some tests for you to check your class.\"\"\"\n",
        "\n",
        "class Circle:\n",
        "  \"\"\"A circle with a radius of r\"\"\"\n",
        "  def __init__(self, radius):\n",
        "    self.radius = radius\n",
        "\n",
        "  def area(self):\n",
        "    \"\"\"Calculates area of the circle with given radius.\"\"\"\n",
        "    return math.pi * self.radius ** 2\n",
        "\n",
        "  def circumference(self):\n",
        "    \"\"\"Calculated the circumference of the circle with given radius.\"\"\"\n",
        "    return 2 * math.pi * self.radius\n",
        "\n",
        "  def __str__(self):\n",
        "        return f\"A Circle with radius {self.radius}\"\n",
        "\n"
      ],
      "metadata": {
        "id": "JbElAJC6T1pP"
      },
      "execution_count": 22,
      "outputs": []
    },
    {
      "cell_type": "code",
      "source": [
        "assert Circle(3).radius == 3, \"Test 1 failed.\"\n",
        "assert math.isclose(Circle(3).area(), 28.3, abs_tol=0.1), \"Test 2 failed.\"\n",
        "assert math.isclose(Circle(3).circumference(), 18.8, abs_tol=0.1), \"Test 3 failed.\"\n",
        "assert Circle(3).__str__() == \"A Circle with radius 3\", \"Test 4 failed.\""
      ],
      "metadata": {
        "id": "_3WaAAxqVOhd"
      },
      "execution_count": 23,
      "outputs": []
    },
    {
      "cell_type": "code",
      "source": [
        "\"\"\"Now, let’s create a new class sphere that inherits from the circle class we created above. It should have the following characteristics:\n",
        "\n",
        "It should be initiated exactly the same as Circle was, with the single argument radius which is stored as an instance attribute.\n",
        "\n",
        "Have a method volume() which calculates the volume of the sphere (43πr3).\n",
        "\n",
        "Outputs the string f\"A Sphere with volume 4.19\" when you call print(Sphere(1)) (hint: recall the __str__() method from the previous question).\"\"\"\n",
        "\n",
        "class Sphere(Circle):\n",
        "  def volume(self):\n",
        "    \"\"\"Calculates volumeof the Sphere.\"\"\"\n",
        "    return 4 / 3 * math.pi * self.radius ** 3\n",
        "\n",
        "  def __str__(self):\n",
        "    return f\"A Sphere with volume {self.volume():.2f}\"\n"
      ],
      "metadata": {
        "id": "uWY44SGSWEMW"
      },
      "execution_count": 24,
      "outputs": []
    },
    {
      "cell_type": "code",
      "source": [
        "assert Sphere(3).radius == 3, \"Test 1 failed.\"\n",
        "assert math.isclose(Sphere(3).area(), 28.3, abs_tol=0.1), \"Test 2 failed.\"\n",
        "assert math.isclose(Sphere(3).circumference(), 18.8, abs_tol=0.1), \"Test 3 failed.\"\n",
        "assert math.isclose(Sphere(3).volume(), 113.1, abs_tol=0.1), \"Test 3 failed.\"\n",
        "assert Sphere(1).__str__() == \"A Sphere with volume 4.19\", \"Test 4 failed.\""
      ],
      "metadata": {
        "id": "6kdBl4FEXVFw"
      },
      "execution_count": 25,
      "outputs": []
    },
    {
      "cell_type": "markdown",
      "source": [
        "## Numpy"
      ],
      "metadata": {
        "id": "OqBLpF6xXd81"
      }
    },
    {
      "cell_type": "code",
      "source": [
        "# Import numpy under the alias np.\n",
        "import numpy as np"
      ],
      "metadata": {
        "id": "348yGnheYJV7"
      },
      "execution_count": 26,
      "outputs": []
    },
    {
      "cell_type": "code",
      "source": [
        "# Create the following arrays:\n",
        "\n",
        "\"\"\"Create an array of 5 zeros.\n",
        "Create an array of 10 ones.\n",
        "Create an array of 5 3.141s.\n",
        "Create an array of the integers 1 to 20.\n",
        "Create a 5 x 5 matrix of ones with a dtype int.\"\"\"\n",
        "\n",
        "print(np.zeros(5))\n",
        "print(np.ones(10))\n",
        "print(np.full(5, 3.141))\n",
        "print(np.arange(1,21))\n",
        "print(np.ones((5,5)))"
      ],
      "metadata": {
        "colab": {
          "base_uri": "https://localhost:8080/"
        },
        "id": "7T7plgqGOxOH",
        "outputId": "55c50858-eab6-4927-e472-1b60ea661450"
      },
      "execution_count": 27,
      "outputs": [
        {
          "output_type": "stream",
          "name": "stdout",
          "text": [
            "[0. 0. 0. 0. 0.]\n",
            "[1. 1. 1. 1. 1. 1. 1. 1. 1. 1.]\n",
            "[3.141 3.141 3.141 3.141 3.141]\n",
            "[ 1  2  3  4  5  6  7  8  9 10 11 12 13 14 15 16 17 18 19 20]\n",
            "[[1. 1. 1. 1. 1.]\n",
            " [1. 1. 1. 1. 1.]\n",
            " [1. 1. 1. 1. 1.]\n",
            " [1. 1. 1. 1. 1.]\n",
            " [1. 1. 1. 1. 1.]]\n"
          ]
        }
      ]
    },
    {
      "cell_type": "code",
      "source": [
        "# Use numpy to:\n",
        "\n",
        "\"\"\"Create an 3D matrix of 3 x 3 x 3 full of random numbers drawn from a standard normal distribution (hint: np.random.randn())\n",
        "\n",
        "Reshape the above array into shape (27,)\"\"\"\n",
        "\n",
        "x = np.random.randn(3,3,3)\n",
        "print(np.random.randn(3,3,3).reshape(27,))"
      ],
      "metadata": {
        "colab": {
          "base_uri": "https://localhost:8080/"
        },
        "id": "cBgdzQ8GO6Pq",
        "outputId": "1a104334-05b0-4741-83c1-7a1d118b1576"
      },
      "execution_count": 28,
      "outputs": [
        {
          "output_type": "stream",
          "name": "stdout",
          "text": [
            "[-2.63695765e-01  1.13413348e+00  1.37126440e+00  8.62320550e-01\n",
            "  1.84364569e-01  8.96896864e-02 -6.19888218e-01  2.27124918e-01\n",
            "  4.71740552e-01 -1.38801412e-01 -9.33630317e-04 -1.38913110e+00\n",
            "  1.96341145e-02  2.27778916e+00  9.39424191e-01  2.75456705e+00\n",
            " -2.43507573e-01 -3.40444629e-01 -5.64571738e-01 -3.86330609e-01\n",
            "  8.73945115e-01  1.02763018e-01 -1.65875508e+00 -5.30622005e-01\n",
            "  2.30047063e+00 -2.34054806e-01 -1.05750264e+00]\n"
          ]
        }
      ]
    },
    {
      "cell_type": "code",
      "source": [
        "# Create an array of 20 linearly spaced numbers between 1 and 10.\n",
        "\n",
        "x = np.linspace(1,10,20)\n",
        "x"
      ],
      "metadata": {
        "colab": {
          "base_uri": "https://localhost:8080/"
        },
        "id": "3xbkiQHkRQmw",
        "outputId": "de8d18d0-a332-4a87-9166-a72f086b74ce"
      },
      "execution_count": 29,
      "outputs": [
        {
          "output_type": "execute_result",
          "data": {
            "text/plain": [
              "array([ 1.        ,  1.47368421,  1.94736842,  2.42105263,  2.89473684,\n",
              "        3.36842105,  3.84210526,  4.31578947,  4.78947368,  5.26315789,\n",
              "        5.73684211,  6.21052632,  6.68421053,  7.15789474,  7.63157895,\n",
              "        8.10526316,  8.57894737,  9.05263158,  9.52631579, 10.        ])"
            ]
          },
          "metadata": {},
          "execution_count": 29
        }
      ]
    },
    {
      "cell_type": "code",
      "source": [
        "# Below I’ve defined an array of shape 4 x 4. Use indexing to procude the given outputs.\n",
        "\n",
        "a = np.arange(1, 26).reshape(5, -1)\n",
        "a"
      ],
      "metadata": {
        "colab": {
          "base_uri": "https://localhost:8080/"
        },
        "id": "jhrrU7-zSBQA",
        "outputId": "3654cbaa-be7b-4c40-a1c4-863b93da527c"
      },
      "execution_count": 30,
      "outputs": [
        {
          "output_type": "execute_result",
          "data": {
            "text/plain": [
              "array([[ 1,  2,  3,  4,  5],\n",
              "       [ 6,  7,  8,  9, 10],\n",
              "       [11, 12, 13, 14, 15],\n",
              "       [16, 17, 18, 19, 20],\n",
              "       [21, 22, 23, 24, 25]])"
            ]
          },
          "metadata": {},
          "execution_count": 30
        }
      ]
    },
    {
      "cell_type": "code",
      "source": [
        "# 20\n",
        "# a.shape\n",
        "a[3][4]"
      ],
      "metadata": {
        "colab": {
          "base_uri": "https://localhost:8080/"
        },
        "id": "amCRBfC6SZYN",
        "outputId": "760adccd-bc27-420d-f134-14b50b554c07"
      },
      "execution_count": 31,
      "outputs": [
        {
          "output_type": "execute_result",
          "data": {
            "text/plain": [
              "20"
            ]
          },
          "metadata": {},
          "execution_count": 31
        }
      ]
    },
    {
      "cell_type": "code",
      "source": [
        "# array([[ 9, 10],\n",
        "#        [14, 15],\n",
        "#        [19, 20],\n",
        "#        [24, 25]])\n",
        "\n",
        "a[1:,3:]"
      ],
      "metadata": {
        "colab": {
          "base_uri": "https://localhost:8080/"
        },
        "id": "8STkV-s0Sp2U",
        "outputId": "6ae01c06-9ad0-4a87-f8a8-984be0afb339"
      },
      "execution_count": 32,
      "outputs": [
        {
          "output_type": "execute_result",
          "data": {
            "text/plain": [
              "array([[ 9, 10],\n",
              "       [14, 15],\n",
              "       [19, 20],\n",
              "       [24, 25]])"
            ]
          },
          "metadata": {},
          "execution_count": 32
        }
      ]
    },
    {
      "cell_type": "code",
      "source": [
        "# array([ 6,  7,  8,  9, 10])\n",
        "\n",
        "a[1,:]"
      ],
      "metadata": {
        "colab": {
          "base_uri": "https://localhost:8080/"
        },
        "id": "5CZCbjB7S_SK",
        "outputId": "d687b4b0-223a-41c9-d3d9-7a656d560855"
      },
      "execution_count": 33,
      "outputs": [
        {
          "output_type": "execute_result",
          "data": {
            "text/plain": [
              "array([ 6,  7,  8,  9, 10])"
            ]
          },
          "metadata": {},
          "execution_count": 33
        }
      ]
    },
    {
      "cell_type": "code",
      "source": [
        "# array([[11, 12, 13, 14, 15],\n",
        "#        [16, 17, 18, 19, 20]])\n",
        "\n",
        "a[2:4,]"
      ],
      "metadata": {
        "colab": {
          "base_uri": "https://localhost:8080/"
        },
        "id": "T6GTKMBmTdy_",
        "outputId": "18f7a53b-0568-4787-9e69-2e4ad95197d0"
      },
      "execution_count": 34,
      "outputs": [
        {
          "output_type": "execute_result",
          "data": {
            "text/plain": [
              "array([[11, 12, 13, 14, 15],\n",
              "       [16, 17, 18, 19, 20]])"
            ]
          },
          "metadata": {},
          "execution_count": 34
        }
      ]
    },
    {
      "cell_type": "code",
      "source": [
        "# array([[ 8,  9],\n",
        "#        [13, 14]])\n",
        "\n",
        "a[1:3, 2:4]"
      ],
      "metadata": {
        "colab": {
          "base_uri": "https://localhost:8080/"
        },
        "id": "UncAG9hUTw_Y",
        "outputId": "9c8c7c69-e0f5-4fc5-c687-c0fe128e2c30"
      },
      "execution_count": 35,
      "outputs": [
        {
          "output_type": "execute_result",
          "data": {
            "text/plain": [
              "array([[ 8,  9],\n",
              "       [13, 14]])"
            ]
          },
          "metadata": {},
          "execution_count": 35
        }
      ]
    },
    {
      "cell_type": "code",
      "source": [
        "# Calculate the sum of all the numbers in a.\n",
        "\n",
        "a.sum()"
      ],
      "metadata": {
        "colab": {
          "base_uri": "https://localhost:8080/"
        },
        "id": "FhBKf7XUT6zF",
        "outputId": "d499dd93-6b88-434e-f977-d7dcb1f9bc2e"
      },
      "execution_count": 36,
      "outputs": [
        {
          "output_type": "execute_result",
          "data": {
            "text/plain": [
              "325"
            ]
          },
          "metadata": {},
          "execution_count": 36
        }
      ]
    },
    {
      "cell_type": "code",
      "source": [
        "# Calculate the sum of each row in a.\n",
        "\n",
        "a.sum(axis=1)"
      ],
      "metadata": {
        "colab": {
          "base_uri": "https://localhost:8080/"
        },
        "id": "Pz6EGmnMT_x5",
        "outputId": "84fb5708-04c1-4d38-be1b-34c534b9d8db"
      },
      "execution_count": 37,
      "outputs": [
        {
          "output_type": "execute_result",
          "data": {
            "text/plain": [
              "array([ 15,  40,  65,  90, 115])"
            ]
          },
          "metadata": {},
          "execution_count": 37
        }
      ]
    },
    {
      "cell_type": "code",
      "source": [
        "# Extract all values of a greater than the mean of a (hint: use a boolean mask).\n",
        "\n",
        "a[a > a.mean()]"
      ],
      "metadata": {
        "colab": {
          "base_uri": "https://localhost:8080/"
        },
        "id": "ruK0kTiFUE_4",
        "outputId": "b93ce68e-2bed-4944-82e2-7374f6a26de7"
      },
      "execution_count": 38,
      "outputs": [
        {
          "output_type": "execute_result",
          "data": {
            "text/plain": [
              "array([14, 15, 16, 17, 18, 19, 20, 21, 22, 23, 24, 25])"
            ]
          },
          "metadata": {},
          "execution_count": 38
        }
      ]
    },
    {
      "cell_type": "code",
      "source": [
        "# Find the location of the minimum value in the following array b:\n",
        "\n",
        "np.random.seed(123)\n",
        "b = np.random.randn(10)\n",
        "b"
      ],
      "metadata": {
        "colab": {
          "base_uri": "https://localhost:8080/"
        },
        "id": "u3ymWlYvUQVb",
        "outputId": "09b61cf1-0ccf-4498-f8a7-26feb1bc6984"
      },
      "execution_count": 39,
      "outputs": [
        {
          "output_type": "execute_result",
          "data": {
            "text/plain": [
              "array([-1.0856306 ,  0.99734545,  0.2829785 , -1.50629471, -0.57860025,\n",
              "        1.65143654, -2.42667924, -0.42891263,  1.26593626, -0.8667404 ])"
            ]
          },
          "metadata": {},
          "execution_count": 39
        }
      ]
    },
    {
      "cell_type": "code",
      "source": [
        "b.argmin()"
      ],
      "metadata": {
        "colab": {
          "base_uri": "https://localhost:8080/"
        },
        "id": "0POwLXKtUa1l",
        "outputId": "5de489b5-15aa-4f0f-a572-5df14391dcad"
      },
      "execution_count": 40,
      "outputs": [
        {
          "output_type": "execute_result",
          "data": {
            "text/plain": [
              "6"
            ]
          },
          "metadata": {},
          "execution_count": 40
        }
      ]
    },
    {
      "cell_type": "code",
      "source": [
        "# Find the location of the maximum value in the following 2D array c \n",
        "\n",
        "np.random.seed(123)\n",
        "c = np.random.randn(3, 2)\n",
        "c"
      ],
      "metadata": {
        "colab": {
          "base_uri": "https://localhost:8080/"
        },
        "id": "_0vDFN7aUeLo",
        "outputId": "4f767d9d-7a21-481d-92ac-1e2e94178666"
      },
      "execution_count": 41,
      "outputs": [
        {
          "output_type": "execute_result",
          "data": {
            "text/plain": [
              "array([[-1.0856306 ,  0.99734545],\n",
              "       [ 0.2829785 , -1.50629471],\n",
              "       [-0.57860025,  1.65143654]])"
            ]
          },
          "metadata": {},
          "execution_count": 41
        }
      ]
    },
    {
      "cell_type": "code",
      "source": [
        "c.argmax()"
      ],
      "metadata": {
        "colab": {
          "base_uri": "https://localhost:8080/"
        },
        "id": "lDScAARoUyGq",
        "outputId": "ff4e98d2-b8f3-4eed-abf4-2b655dfd9dbc"
      },
      "execution_count": 42,
      "outputs": [
        {
          "output_type": "execute_result",
          "data": {
            "text/plain": [
              "5"
            ]
          },
          "metadata": {},
          "execution_count": 42
        }
      ]
    },
    {
      "cell_type": "code",
      "source": [
        "np.unravel_index(c.argmax(), c.shape)"
      ],
      "metadata": {
        "colab": {
          "base_uri": "https://localhost:8080/"
        },
        "id": "uTGFLBWOUzDM",
        "outputId": "147c4b4c-1383-477c-c678-6d4f5a33456e"
      },
      "execution_count": 43,
      "outputs": [
        {
          "output_type": "execute_result",
          "data": {
            "text/plain": [
              "(2, 1)"
            ]
          },
          "metadata": {},
          "execution_count": 43
        }
      ]
    },
    {
      "cell_type": "markdown",
      "source": [
        "## Pandas"
      ],
      "metadata": {
        "id": "CLg-XUmqU35H"
      }
    },
    {
      "cell_type": "code",
      "source": [
        "# Start by importing pandas with the alias pd.\n",
        "import pandas as pd"
      ],
      "metadata": {
        "id": "SOTUCQyPiZd7"
      },
      "execution_count": 44,
      "outputs": []
    },
    {
      "cell_type": "code",
      "source": [
        "\"\"\"\n",
        "The dataset we'll be working with has the following columns:\n",
        "\n",
        "column\tdescription\n",
        "country\tCountry Name\n",
        "food_category\tFood Category\n",
        "consumption\tConsumption (kg/person/year)\n",
        "co2_emmission\tCo2 Emission (Kg CO2/person/year)\n",
        "Import the dataset as a dataframe named df from this url: https://raw.githubusercontent.com/rfordatascience/tidytuesday/master/data/2020/2020-02-18/food_consumption.csv\"\"\"\n",
        "\n",
        "df = pd.read_csv(\"https://raw.githubusercontent.com/rfordatascience/tidytuesday/master/data/2020/2020-02-18/food_consumption.csv\")\n",
        "df.head()"
      ],
      "metadata": {
        "colab": {
          "base_uri": "https://localhost:8080/",
          "height": 206
        },
        "id": "q2E8pur4ifh1",
        "outputId": "ef9b09f8-7e9c-4fcf-be15-3a90b0509c78"
      },
      "execution_count": 45,
      "outputs": [
        {
          "output_type": "execute_result",
          "data": {
            "text/plain": [
              "     country food_category  consumption  co2_emmission\n",
              "0  Argentina          Pork        10.51          37.20\n",
              "1  Argentina       Poultry        38.66          41.53\n",
              "2  Argentina          Beef        55.48        1712.00\n",
              "3  Argentina   Lamb & Goat         1.56          54.63\n",
              "4  Argentina          Fish         4.36           6.96"
            ],
            "text/html": [
              "\n",
              "  <div id=\"df-ecfcac25-c428-4640-836e-841c959fc156\">\n",
              "    <div class=\"colab-df-container\">\n",
              "      <div>\n",
              "<style scoped>\n",
              "    .dataframe tbody tr th:only-of-type {\n",
              "        vertical-align: middle;\n",
              "    }\n",
              "\n",
              "    .dataframe tbody tr th {\n",
              "        vertical-align: top;\n",
              "    }\n",
              "\n",
              "    .dataframe thead th {\n",
              "        text-align: right;\n",
              "    }\n",
              "</style>\n",
              "<table border=\"1\" class=\"dataframe\">\n",
              "  <thead>\n",
              "    <tr style=\"text-align: right;\">\n",
              "      <th></th>\n",
              "      <th>country</th>\n",
              "      <th>food_category</th>\n",
              "      <th>consumption</th>\n",
              "      <th>co2_emmission</th>\n",
              "    </tr>\n",
              "  </thead>\n",
              "  <tbody>\n",
              "    <tr>\n",
              "      <th>0</th>\n",
              "      <td>Argentina</td>\n",
              "      <td>Pork</td>\n",
              "      <td>10.51</td>\n",
              "      <td>37.20</td>\n",
              "    </tr>\n",
              "    <tr>\n",
              "      <th>1</th>\n",
              "      <td>Argentina</td>\n",
              "      <td>Poultry</td>\n",
              "      <td>38.66</td>\n",
              "      <td>41.53</td>\n",
              "    </tr>\n",
              "    <tr>\n",
              "      <th>2</th>\n",
              "      <td>Argentina</td>\n",
              "      <td>Beef</td>\n",
              "      <td>55.48</td>\n",
              "      <td>1712.00</td>\n",
              "    </tr>\n",
              "    <tr>\n",
              "      <th>3</th>\n",
              "      <td>Argentina</td>\n",
              "      <td>Lamb &amp; Goat</td>\n",
              "      <td>1.56</td>\n",
              "      <td>54.63</td>\n",
              "    </tr>\n",
              "    <tr>\n",
              "      <th>4</th>\n",
              "      <td>Argentina</td>\n",
              "      <td>Fish</td>\n",
              "      <td>4.36</td>\n",
              "      <td>6.96</td>\n",
              "    </tr>\n",
              "  </tbody>\n",
              "</table>\n",
              "</div>\n",
              "      <button class=\"colab-df-convert\" onclick=\"convertToInteractive('df-ecfcac25-c428-4640-836e-841c959fc156')\"\n",
              "              title=\"Convert this dataframe to an interactive table.\"\n",
              "              style=\"display:none;\">\n",
              "        \n",
              "  <svg xmlns=\"http://www.w3.org/2000/svg\" height=\"24px\"viewBox=\"0 0 24 24\"\n",
              "       width=\"24px\">\n",
              "    <path d=\"M0 0h24v24H0V0z\" fill=\"none\"/>\n",
              "    <path d=\"M18.56 5.44l.94 2.06.94-2.06 2.06-.94-2.06-.94-.94-2.06-.94 2.06-2.06.94zm-11 1L8.5 8.5l.94-2.06 2.06-.94-2.06-.94L8.5 2.5l-.94 2.06-2.06.94zm10 10l.94 2.06.94-2.06 2.06-.94-2.06-.94-.94-2.06-.94 2.06-2.06.94z\"/><path d=\"M17.41 7.96l-1.37-1.37c-.4-.4-.92-.59-1.43-.59-.52 0-1.04.2-1.43.59L10.3 9.45l-7.72 7.72c-.78.78-.78 2.05 0 2.83L4 21.41c.39.39.9.59 1.41.59.51 0 1.02-.2 1.41-.59l7.78-7.78 2.81-2.81c.8-.78.8-2.07 0-2.86zM5.41 20L4 18.59l7.72-7.72 1.47 1.35L5.41 20z\"/>\n",
              "  </svg>\n",
              "      </button>\n",
              "      \n",
              "  <style>\n",
              "    .colab-df-container {\n",
              "      display:flex;\n",
              "      flex-wrap:wrap;\n",
              "      gap: 12px;\n",
              "    }\n",
              "\n",
              "    .colab-df-convert {\n",
              "      background-color: #E8F0FE;\n",
              "      border: none;\n",
              "      border-radius: 50%;\n",
              "      cursor: pointer;\n",
              "      display: none;\n",
              "      fill: #1967D2;\n",
              "      height: 32px;\n",
              "      padding: 0 0 0 0;\n",
              "      width: 32px;\n",
              "    }\n",
              "\n",
              "    .colab-df-convert:hover {\n",
              "      background-color: #E2EBFA;\n",
              "      box-shadow: 0px 1px 2px rgba(60, 64, 67, 0.3), 0px 1px 3px 1px rgba(60, 64, 67, 0.15);\n",
              "      fill: #174EA6;\n",
              "    }\n",
              "\n",
              "    [theme=dark] .colab-df-convert {\n",
              "      background-color: #3B4455;\n",
              "      fill: #D2E3FC;\n",
              "    }\n",
              "\n",
              "    [theme=dark] .colab-df-convert:hover {\n",
              "      background-color: #434B5C;\n",
              "      box-shadow: 0px 1px 3px 1px rgba(0, 0, 0, 0.15);\n",
              "      filter: drop-shadow(0px 1px 2px rgba(0, 0, 0, 0.3));\n",
              "      fill: #FFFFFF;\n",
              "    }\n",
              "  </style>\n",
              "\n",
              "      <script>\n",
              "        const buttonEl =\n",
              "          document.querySelector('#df-ecfcac25-c428-4640-836e-841c959fc156 button.colab-df-convert');\n",
              "        buttonEl.style.display =\n",
              "          google.colab.kernel.accessAllowed ? 'block' : 'none';\n",
              "\n",
              "        async function convertToInteractive(key) {\n",
              "          const element = document.querySelector('#df-ecfcac25-c428-4640-836e-841c959fc156');\n",
              "          const dataTable =\n",
              "            await google.colab.kernel.invokeFunction('convertToInteractive',\n",
              "                                                     [key], {});\n",
              "          if (!dataTable) return;\n",
              "\n",
              "          const docLinkHtml = 'Like what you see? Visit the ' +\n",
              "            '<a target=\"_blank\" href=https://colab.research.google.com/notebooks/data_table.ipynb>data table notebook</a>'\n",
              "            + ' to learn more about interactive tables.';\n",
              "          element.innerHTML = '';\n",
              "          dataTable['output_type'] = 'display_data';\n",
              "          await google.colab.output.renderOutput(dataTable, element);\n",
              "          const docLink = document.createElement('div');\n",
              "          docLink.innerHTML = docLinkHtml;\n",
              "          element.appendChild(docLink);\n",
              "        }\n",
              "      </script>\n",
              "    </div>\n",
              "  </div>\n",
              "  "
            ]
          },
          "metadata": {},
          "execution_count": 45
        }
      ]
    },
    {
      "cell_type": "code",
      "source": [
        "# How many rows and columns are there in the dataframe?\n",
        "\n",
        "df.shape"
      ],
      "metadata": {
        "colab": {
          "base_uri": "https://localhost:8080/"
        },
        "id": "aEgiaWrii4It",
        "outputId": "1df46a79-c6c9-42c8-d4ca-ba586221b2a0"
      },
      "execution_count": 46,
      "outputs": [
        {
          "output_type": "execute_result",
          "data": {
            "text/plain": [
              "(1430, 4)"
            ]
          },
          "metadata": {},
          "execution_count": 46
        }
      ]
    },
    {
      "cell_type": "code",
      "source": [
        "# What is the type of data in each column of df?\n",
        "\n",
        "df.info()"
      ],
      "metadata": {
        "colab": {
          "base_uri": "https://localhost:8080/"
        },
        "id": "tpz9QobpjGgO",
        "outputId": "337773ca-9026-4a2b-c72e-7709a5d60d24"
      },
      "execution_count": 47,
      "outputs": [
        {
          "output_type": "stream",
          "name": "stdout",
          "text": [
            "<class 'pandas.core.frame.DataFrame'>\n",
            "RangeIndex: 1430 entries, 0 to 1429\n",
            "Data columns (total 4 columns):\n",
            " #   Column         Non-Null Count  Dtype  \n",
            "---  ------         --------------  -----  \n",
            " 0   country        1430 non-null   object \n",
            " 1   food_category  1430 non-null   object \n",
            " 2   consumption    1430 non-null   float64\n",
            " 3   co2_emmission  1430 non-null   float64\n",
            "dtypes: float64(2), object(2)\n",
            "memory usage: 44.8+ KB\n"
          ]
        }
      ]
    },
    {
      "cell_type": "code",
      "source": [
        "df.dtypes"
      ],
      "metadata": {
        "colab": {
          "base_uri": "https://localhost:8080/"
        },
        "id": "Vaa3gdQfjPEv",
        "outputId": "76879cc4-8f75-4325-b6a8-8b972b650d28"
      },
      "execution_count": 48,
      "outputs": [
        {
          "output_type": "execute_result",
          "data": {
            "text/plain": [
              "country           object\n",
              "food_category     object\n",
              "consumption      float64\n",
              "co2_emmission    float64\n",
              "dtype: object"
            ]
          },
          "metadata": {},
          "execution_count": 48
        }
      ]
    },
    {
      "cell_type": "code",
      "source": [
        "# What is the mean co2_emission of the whole dataset?\n",
        "\n",
        "df[\"co2_emmission\"].mean()"
      ],
      "metadata": {
        "colab": {
          "base_uri": "https://localhost:8080/"
        },
        "id": "NDWrrh1RjSeP",
        "outputId": "84e05045-6d4a-434a-bec3-b741767fc43a"
      },
      "execution_count": 49,
      "outputs": [
        {
          "output_type": "execute_result",
          "data": {
            "text/plain": [
              "74.383993006993"
            ]
          },
          "metadata": {},
          "execution_count": 49
        }
      ]
    },
    {
      "cell_type": "code",
      "source": [
        "# How many different kinds of foods are there in the dataset? How many countries are in the dataset?\n",
        "\n",
        "# df.food_category.value_counts().count()\n",
        "# df['food_category'].nunique()\n",
        "\n",
        "# df.country.value_counts().count()\n",
        "df.country.nunique()"
      ],
      "metadata": {
        "colab": {
          "base_uri": "https://localhost:8080/"
        },
        "id": "7JzClmN7jZxZ",
        "outputId": "90633eff-9314-400c-90df-9f720021087d"
      },
      "execution_count": 50,
      "outputs": [
        {
          "output_type": "execute_result",
          "data": {
            "text/plain": [
              "130"
            ]
          },
          "metadata": {},
          "execution_count": 50
        }
      ]
    },
    {
      "cell_type": "code",
      "source": [
        "# What is the maximum co2_emmission in the dataset and which food type and country does it belong to?\n",
        "\n",
        "df.iloc[df.co2_emmission.idxmax()]"
      ],
      "metadata": {
        "colab": {
          "base_uri": "https://localhost:8080/"
        },
        "id": "OPt8A9Sdjizk",
        "outputId": "86e758d3-bd03-4923-9e8f-3507a14a1a07"
      },
      "execution_count": 51,
      "outputs": [
        {
          "output_type": "execute_result",
          "data": {
            "text/plain": [
              "country          Argentina\n",
              "food_category         Beef\n",
              "consumption          55.48\n",
              "co2_emmission       1712.0\n",
              "Name: 2, dtype: object"
            ]
          },
          "metadata": {},
          "execution_count": 51
        }
      ]
    },
    {
      "cell_type": "code",
      "source": [
        "# How many countries produce more than 1000 Kg CO2/person/year for at least one food type?\n",
        "\n",
        "df.query(\"co2_emmission > 1000\")"
      ],
      "metadata": {
        "colab": {
          "base_uri": "https://localhost:8080/",
          "height": 206
        },
        "id": "mun0qWYOkB3j",
        "outputId": "b2cd5926-60de-4b56-e94a-db0502ada614"
      },
      "execution_count": 52,
      "outputs": [
        {
          "output_type": "execute_result",
          "data": {
            "text/plain": [
              "       country food_category  consumption  co2_emmission\n",
              "2    Argentina          Beef        55.48        1712.00\n",
              "13   Australia          Beef        33.86        1044.85\n",
              "57         USA          Beef        36.24        1118.29\n",
              "90      Brazil          Beef        39.25        1211.17\n",
              "123    Bermuda          Beef        33.15        1022.94"
            ],
            "text/html": [
              "\n",
              "  <div id=\"df-6ce44ab3-6641-4ba4-b7a4-e8453b75d1f3\">\n",
              "    <div class=\"colab-df-container\">\n",
              "      <div>\n",
              "<style scoped>\n",
              "    .dataframe tbody tr th:only-of-type {\n",
              "        vertical-align: middle;\n",
              "    }\n",
              "\n",
              "    .dataframe tbody tr th {\n",
              "        vertical-align: top;\n",
              "    }\n",
              "\n",
              "    .dataframe thead th {\n",
              "        text-align: right;\n",
              "    }\n",
              "</style>\n",
              "<table border=\"1\" class=\"dataframe\">\n",
              "  <thead>\n",
              "    <tr style=\"text-align: right;\">\n",
              "      <th></th>\n",
              "      <th>country</th>\n",
              "      <th>food_category</th>\n",
              "      <th>consumption</th>\n",
              "      <th>co2_emmission</th>\n",
              "    </tr>\n",
              "  </thead>\n",
              "  <tbody>\n",
              "    <tr>\n",
              "      <th>2</th>\n",
              "      <td>Argentina</td>\n",
              "      <td>Beef</td>\n",
              "      <td>55.48</td>\n",
              "      <td>1712.00</td>\n",
              "    </tr>\n",
              "    <tr>\n",
              "      <th>13</th>\n",
              "      <td>Australia</td>\n",
              "      <td>Beef</td>\n",
              "      <td>33.86</td>\n",
              "      <td>1044.85</td>\n",
              "    </tr>\n",
              "    <tr>\n",
              "      <th>57</th>\n",
              "      <td>USA</td>\n",
              "      <td>Beef</td>\n",
              "      <td>36.24</td>\n",
              "      <td>1118.29</td>\n",
              "    </tr>\n",
              "    <tr>\n",
              "      <th>90</th>\n",
              "      <td>Brazil</td>\n",
              "      <td>Beef</td>\n",
              "      <td>39.25</td>\n",
              "      <td>1211.17</td>\n",
              "    </tr>\n",
              "    <tr>\n",
              "      <th>123</th>\n",
              "      <td>Bermuda</td>\n",
              "      <td>Beef</td>\n",
              "      <td>33.15</td>\n",
              "      <td>1022.94</td>\n",
              "    </tr>\n",
              "  </tbody>\n",
              "</table>\n",
              "</div>\n",
              "      <button class=\"colab-df-convert\" onclick=\"convertToInteractive('df-6ce44ab3-6641-4ba4-b7a4-e8453b75d1f3')\"\n",
              "              title=\"Convert this dataframe to an interactive table.\"\n",
              "              style=\"display:none;\">\n",
              "        \n",
              "  <svg xmlns=\"http://www.w3.org/2000/svg\" height=\"24px\"viewBox=\"0 0 24 24\"\n",
              "       width=\"24px\">\n",
              "    <path d=\"M0 0h24v24H0V0z\" fill=\"none\"/>\n",
              "    <path d=\"M18.56 5.44l.94 2.06.94-2.06 2.06-.94-2.06-.94-.94-2.06-.94 2.06-2.06.94zm-11 1L8.5 8.5l.94-2.06 2.06-.94-2.06-.94L8.5 2.5l-.94 2.06-2.06.94zm10 10l.94 2.06.94-2.06 2.06-.94-2.06-.94-.94-2.06-.94 2.06-2.06.94z\"/><path d=\"M17.41 7.96l-1.37-1.37c-.4-.4-.92-.59-1.43-.59-.52 0-1.04.2-1.43.59L10.3 9.45l-7.72 7.72c-.78.78-.78 2.05 0 2.83L4 21.41c.39.39.9.59 1.41.59.51 0 1.02-.2 1.41-.59l7.78-7.78 2.81-2.81c.8-.78.8-2.07 0-2.86zM5.41 20L4 18.59l7.72-7.72 1.47 1.35L5.41 20z\"/>\n",
              "  </svg>\n",
              "      </button>\n",
              "      \n",
              "  <style>\n",
              "    .colab-df-container {\n",
              "      display:flex;\n",
              "      flex-wrap:wrap;\n",
              "      gap: 12px;\n",
              "    }\n",
              "\n",
              "    .colab-df-convert {\n",
              "      background-color: #E8F0FE;\n",
              "      border: none;\n",
              "      border-radius: 50%;\n",
              "      cursor: pointer;\n",
              "      display: none;\n",
              "      fill: #1967D2;\n",
              "      height: 32px;\n",
              "      padding: 0 0 0 0;\n",
              "      width: 32px;\n",
              "    }\n",
              "\n",
              "    .colab-df-convert:hover {\n",
              "      background-color: #E2EBFA;\n",
              "      box-shadow: 0px 1px 2px rgba(60, 64, 67, 0.3), 0px 1px 3px 1px rgba(60, 64, 67, 0.15);\n",
              "      fill: #174EA6;\n",
              "    }\n",
              "\n",
              "    [theme=dark] .colab-df-convert {\n",
              "      background-color: #3B4455;\n",
              "      fill: #D2E3FC;\n",
              "    }\n",
              "\n",
              "    [theme=dark] .colab-df-convert:hover {\n",
              "      background-color: #434B5C;\n",
              "      box-shadow: 0px 1px 3px 1px rgba(0, 0, 0, 0.15);\n",
              "      filter: drop-shadow(0px 1px 2px rgba(0, 0, 0, 0.3));\n",
              "      fill: #FFFFFF;\n",
              "    }\n",
              "  </style>\n",
              "\n",
              "      <script>\n",
              "        const buttonEl =\n",
              "          document.querySelector('#df-6ce44ab3-6641-4ba4-b7a4-e8453b75d1f3 button.colab-df-convert');\n",
              "        buttonEl.style.display =\n",
              "          google.colab.kernel.accessAllowed ? 'block' : 'none';\n",
              "\n",
              "        async function convertToInteractive(key) {\n",
              "          const element = document.querySelector('#df-6ce44ab3-6641-4ba4-b7a4-e8453b75d1f3');\n",
              "          const dataTable =\n",
              "            await google.colab.kernel.invokeFunction('convertToInteractive',\n",
              "                                                     [key], {});\n",
              "          if (!dataTable) return;\n",
              "\n",
              "          const docLinkHtml = 'Like what you see? Visit the ' +\n",
              "            '<a target=\"_blank\" href=https://colab.research.google.com/notebooks/data_table.ipynb>data table notebook</a>'\n",
              "            + ' to learn more about interactive tables.';\n",
              "          element.innerHTML = '';\n",
              "          dataTable['output_type'] = 'display_data';\n",
              "          await google.colab.output.renderOutput(dataTable, element);\n",
              "          const docLink = document.createElement('div');\n",
              "          docLink.innerHTML = docLinkHtml;\n",
              "          element.appendChild(docLink);\n",
              "        }\n",
              "      </script>\n",
              "    </div>\n",
              "  </div>\n",
              "  "
            ]
          },
          "metadata": {},
          "execution_count": 52
        }
      ]
    },
    {
      "cell_type": "code",
      "source": [
        "# Which country consumes the least amount of beef per person per year?\n",
        "\n",
        "df.query(\"food_category == 'Beef'\").sort_values(by=\"consumption\").head(1)"
      ],
      "metadata": {
        "colab": {
          "base_uri": "https://localhost:8080/",
          "height": 81
        },
        "id": "e-Kt6Hldkt16",
        "outputId": "2cce6005-d4a5-4b96-b256-d651e2ece273"
      },
      "execution_count": 53,
      "outputs": [
        {
          "output_type": "execute_result",
          "data": {
            "text/plain": [
              "      country food_category  consumption  co2_emmission\n",
              "1410  Liberia          Beef         0.78          24.07"
            ],
            "text/html": [
              "\n",
              "  <div id=\"df-759214ef-41ce-4d8d-9442-1185f32aba9f\">\n",
              "    <div class=\"colab-df-container\">\n",
              "      <div>\n",
              "<style scoped>\n",
              "    .dataframe tbody tr th:only-of-type {\n",
              "        vertical-align: middle;\n",
              "    }\n",
              "\n",
              "    .dataframe tbody tr th {\n",
              "        vertical-align: top;\n",
              "    }\n",
              "\n",
              "    .dataframe thead th {\n",
              "        text-align: right;\n",
              "    }\n",
              "</style>\n",
              "<table border=\"1\" class=\"dataframe\">\n",
              "  <thead>\n",
              "    <tr style=\"text-align: right;\">\n",
              "      <th></th>\n",
              "      <th>country</th>\n",
              "      <th>food_category</th>\n",
              "      <th>consumption</th>\n",
              "      <th>co2_emmission</th>\n",
              "    </tr>\n",
              "  </thead>\n",
              "  <tbody>\n",
              "    <tr>\n",
              "      <th>1410</th>\n",
              "      <td>Liberia</td>\n",
              "      <td>Beef</td>\n",
              "      <td>0.78</td>\n",
              "      <td>24.07</td>\n",
              "    </tr>\n",
              "  </tbody>\n",
              "</table>\n",
              "</div>\n",
              "      <button class=\"colab-df-convert\" onclick=\"convertToInteractive('df-759214ef-41ce-4d8d-9442-1185f32aba9f')\"\n",
              "              title=\"Convert this dataframe to an interactive table.\"\n",
              "              style=\"display:none;\">\n",
              "        \n",
              "  <svg xmlns=\"http://www.w3.org/2000/svg\" height=\"24px\"viewBox=\"0 0 24 24\"\n",
              "       width=\"24px\">\n",
              "    <path d=\"M0 0h24v24H0V0z\" fill=\"none\"/>\n",
              "    <path d=\"M18.56 5.44l.94 2.06.94-2.06 2.06-.94-2.06-.94-.94-2.06-.94 2.06-2.06.94zm-11 1L8.5 8.5l.94-2.06 2.06-.94-2.06-.94L8.5 2.5l-.94 2.06-2.06.94zm10 10l.94 2.06.94-2.06 2.06-.94-2.06-.94-.94-2.06-.94 2.06-2.06.94z\"/><path d=\"M17.41 7.96l-1.37-1.37c-.4-.4-.92-.59-1.43-.59-.52 0-1.04.2-1.43.59L10.3 9.45l-7.72 7.72c-.78.78-.78 2.05 0 2.83L4 21.41c.39.39.9.59 1.41.59.51 0 1.02-.2 1.41-.59l7.78-7.78 2.81-2.81c.8-.78.8-2.07 0-2.86zM5.41 20L4 18.59l7.72-7.72 1.47 1.35L5.41 20z\"/>\n",
              "  </svg>\n",
              "      </button>\n",
              "      \n",
              "  <style>\n",
              "    .colab-df-container {\n",
              "      display:flex;\n",
              "      flex-wrap:wrap;\n",
              "      gap: 12px;\n",
              "    }\n",
              "\n",
              "    .colab-df-convert {\n",
              "      background-color: #E8F0FE;\n",
              "      border: none;\n",
              "      border-radius: 50%;\n",
              "      cursor: pointer;\n",
              "      display: none;\n",
              "      fill: #1967D2;\n",
              "      height: 32px;\n",
              "      padding: 0 0 0 0;\n",
              "      width: 32px;\n",
              "    }\n",
              "\n",
              "    .colab-df-convert:hover {\n",
              "      background-color: #E2EBFA;\n",
              "      box-shadow: 0px 1px 2px rgba(60, 64, 67, 0.3), 0px 1px 3px 1px rgba(60, 64, 67, 0.15);\n",
              "      fill: #174EA6;\n",
              "    }\n",
              "\n",
              "    [theme=dark] .colab-df-convert {\n",
              "      background-color: #3B4455;\n",
              "      fill: #D2E3FC;\n",
              "    }\n",
              "\n",
              "    [theme=dark] .colab-df-convert:hover {\n",
              "      background-color: #434B5C;\n",
              "      box-shadow: 0px 1px 3px 1px rgba(0, 0, 0, 0.15);\n",
              "      filter: drop-shadow(0px 1px 2px rgba(0, 0, 0, 0.3));\n",
              "      fill: #FFFFFF;\n",
              "    }\n",
              "  </style>\n",
              "\n",
              "      <script>\n",
              "        const buttonEl =\n",
              "          document.querySelector('#df-759214ef-41ce-4d8d-9442-1185f32aba9f button.colab-df-convert');\n",
              "        buttonEl.style.display =\n",
              "          google.colab.kernel.accessAllowed ? 'block' : 'none';\n",
              "\n",
              "        async function convertToInteractive(key) {\n",
              "          const element = document.querySelector('#df-759214ef-41ce-4d8d-9442-1185f32aba9f');\n",
              "          const dataTable =\n",
              "            await google.colab.kernel.invokeFunction('convertToInteractive',\n",
              "                                                     [key], {});\n",
              "          if (!dataTable) return;\n",
              "\n",
              "          const docLinkHtml = 'Like what you see? Visit the ' +\n",
              "            '<a target=\"_blank\" href=https://colab.research.google.com/notebooks/data_table.ipynb>data table notebook</a>'\n",
              "            + ' to learn more about interactive tables.';\n",
              "          element.innerHTML = '';\n",
              "          dataTable['output_type'] = 'display_data';\n",
              "          await google.colab.output.renderOutput(dataTable, element);\n",
              "          const docLink = document.createElement('div');\n",
              "          docLink.innerHTML = docLinkHtml;\n",
              "          element.appendChild(docLink);\n",
              "        }\n",
              "      </script>\n",
              "    </div>\n",
              "  </div>\n",
              "  "
            ]
          },
          "metadata": {},
          "execution_count": 53
        }
      ]
    },
    {
      "cell_type": "code",
      "source": [
        "# Which country consumes the most amount of soybeans per person per year?\n",
        "\n",
        "df.query(\"food_category == 'Soybeans'\").sort_values(by=\"consumption\", ascending=False).head(1)"
      ],
      "metadata": {
        "colab": {
          "base_uri": "https://localhost:8080/",
          "height": 81
        },
        "id": "Hg-GU5MAlW7t",
        "outputId": "1b7b29f9-f102-490d-baea-68dc440a515a"
      },
      "execution_count": 54,
      "outputs": [
        {
          "output_type": "execute_result",
          "data": {
            "text/plain": [
              "          country food_category  consumption  co2_emmission\n",
              "1010  Taiwan. ROC      Soybeans        16.95           7.63"
            ],
            "text/html": [
              "\n",
              "  <div id=\"df-546972a0-8a30-45b7-9547-28201df1c000\">\n",
              "    <div class=\"colab-df-container\">\n",
              "      <div>\n",
              "<style scoped>\n",
              "    .dataframe tbody tr th:only-of-type {\n",
              "        vertical-align: middle;\n",
              "    }\n",
              "\n",
              "    .dataframe tbody tr th {\n",
              "        vertical-align: top;\n",
              "    }\n",
              "\n",
              "    .dataframe thead th {\n",
              "        text-align: right;\n",
              "    }\n",
              "</style>\n",
              "<table border=\"1\" class=\"dataframe\">\n",
              "  <thead>\n",
              "    <tr style=\"text-align: right;\">\n",
              "      <th></th>\n",
              "      <th>country</th>\n",
              "      <th>food_category</th>\n",
              "      <th>consumption</th>\n",
              "      <th>co2_emmission</th>\n",
              "    </tr>\n",
              "  </thead>\n",
              "  <tbody>\n",
              "    <tr>\n",
              "      <th>1010</th>\n",
              "      <td>Taiwan. ROC</td>\n",
              "      <td>Soybeans</td>\n",
              "      <td>16.95</td>\n",
              "      <td>7.63</td>\n",
              "    </tr>\n",
              "  </tbody>\n",
              "</table>\n",
              "</div>\n",
              "      <button class=\"colab-df-convert\" onclick=\"convertToInteractive('df-546972a0-8a30-45b7-9547-28201df1c000')\"\n",
              "              title=\"Convert this dataframe to an interactive table.\"\n",
              "              style=\"display:none;\">\n",
              "        \n",
              "  <svg xmlns=\"http://www.w3.org/2000/svg\" height=\"24px\"viewBox=\"0 0 24 24\"\n",
              "       width=\"24px\">\n",
              "    <path d=\"M0 0h24v24H0V0z\" fill=\"none\"/>\n",
              "    <path d=\"M18.56 5.44l.94 2.06.94-2.06 2.06-.94-2.06-.94-.94-2.06-.94 2.06-2.06.94zm-11 1L8.5 8.5l.94-2.06 2.06-.94-2.06-.94L8.5 2.5l-.94 2.06-2.06.94zm10 10l.94 2.06.94-2.06 2.06-.94-2.06-.94-.94-2.06-.94 2.06-2.06.94z\"/><path d=\"M17.41 7.96l-1.37-1.37c-.4-.4-.92-.59-1.43-.59-.52 0-1.04.2-1.43.59L10.3 9.45l-7.72 7.72c-.78.78-.78 2.05 0 2.83L4 21.41c.39.39.9.59 1.41.59.51 0 1.02-.2 1.41-.59l7.78-7.78 2.81-2.81c.8-.78.8-2.07 0-2.86zM5.41 20L4 18.59l7.72-7.72 1.47 1.35L5.41 20z\"/>\n",
              "  </svg>\n",
              "      </button>\n",
              "      \n",
              "  <style>\n",
              "    .colab-df-container {\n",
              "      display:flex;\n",
              "      flex-wrap:wrap;\n",
              "      gap: 12px;\n",
              "    }\n",
              "\n",
              "    .colab-df-convert {\n",
              "      background-color: #E8F0FE;\n",
              "      border: none;\n",
              "      border-radius: 50%;\n",
              "      cursor: pointer;\n",
              "      display: none;\n",
              "      fill: #1967D2;\n",
              "      height: 32px;\n",
              "      padding: 0 0 0 0;\n",
              "      width: 32px;\n",
              "    }\n",
              "\n",
              "    .colab-df-convert:hover {\n",
              "      background-color: #E2EBFA;\n",
              "      box-shadow: 0px 1px 2px rgba(60, 64, 67, 0.3), 0px 1px 3px 1px rgba(60, 64, 67, 0.15);\n",
              "      fill: #174EA6;\n",
              "    }\n",
              "\n",
              "    [theme=dark] .colab-df-convert {\n",
              "      background-color: #3B4455;\n",
              "      fill: #D2E3FC;\n",
              "    }\n",
              "\n",
              "    [theme=dark] .colab-df-convert:hover {\n",
              "      background-color: #434B5C;\n",
              "      box-shadow: 0px 1px 3px 1px rgba(0, 0, 0, 0.15);\n",
              "      filter: drop-shadow(0px 1px 2px rgba(0, 0, 0, 0.3));\n",
              "      fill: #FFFFFF;\n",
              "    }\n",
              "  </style>\n",
              "\n",
              "      <script>\n",
              "        const buttonEl =\n",
              "          document.querySelector('#df-546972a0-8a30-45b7-9547-28201df1c000 button.colab-df-convert');\n",
              "        buttonEl.style.display =\n",
              "          google.colab.kernel.accessAllowed ? 'block' : 'none';\n",
              "\n",
              "        async function convertToInteractive(key) {\n",
              "          const element = document.querySelector('#df-546972a0-8a30-45b7-9547-28201df1c000');\n",
              "          const dataTable =\n",
              "            await google.colab.kernel.invokeFunction('convertToInteractive',\n",
              "                                                     [key], {});\n",
              "          if (!dataTable) return;\n",
              "\n",
              "          const docLinkHtml = 'Like what you see? Visit the ' +\n",
              "            '<a target=\"_blank\" href=https://colab.research.google.com/notebooks/data_table.ipynb>data table notebook</a>'\n",
              "            + ' to learn more about interactive tables.';\n",
              "          element.innerHTML = '';\n",
              "          dataTable['output_type'] = 'display_data';\n",
              "          await google.colab.output.renderOutput(dataTable, element);\n",
              "          const docLink = document.createElement('div');\n",
              "          docLink.innerHTML = docLinkHtml;\n",
              "          element.appendChild(docLink);\n",
              "        }\n",
              "      </script>\n",
              "    </div>\n",
              "  </div>\n",
              "  "
            ]
          },
          "metadata": {},
          "execution_count": 54
        }
      ]
    },
    {
      "cell_type": "code",
      "source": [
        "# What is the total emissions of all the meat products (Pork, Poultry, Fish, Lamb & Goat, Beef) in the dataset combined?\n",
        "\n",
        "meat = ['Poultry', 'Pork', 'Fish', 'Lamb & Goat', 'Beef']\n",
        "df[\"co2_emmission\"][df[\"food_category\"].isin(meat)].sum()"
      ],
      "metadata": {
        "colab": {
          "base_uri": "https://localhost:8080/"
        },
        "id": "-Wit4drZl1e6",
        "outputId": "0ef145d6-96a5-4298-865a-569d922908a7"
      },
      "execution_count": 55,
      "outputs": [
        {
          "output_type": "execute_result",
          "data": {
            "text/plain": [
              "74441.13"
            ]
          },
          "metadata": {},
          "execution_count": 55
        }
      ]
    },
    {
      "cell_type": "code",
      "source": [
        "# What is the total emissions of all other (non-meat) products in the dataset combined?\n",
        "\n",
        "meat = ['Poultry', 'Pork', 'Fish', 'Lamb & Goat', 'Beef']\n",
        "df[\"co2_emmission\"][~df[\"food_category\"].isin(meat)].sum()"
      ],
      "metadata": {
        "colab": {
          "base_uri": "https://localhost:8080/"
        },
        "id": "Nid7HZ7Hmz-z",
        "outputId": "55439e89-7cf2-4c18-c4c8-2d79dd258a00"
      },
      "execution_count": 56,
      "outputs": [
        {
          "output_type": "execute_result",
          "data": {
            "text/plain": [
              "31927.98"
            ]
          },
          "metadata": {},
          "execution_count": 56
        }
      ]
    },
    {
      "cell_type": "markdown",
      "source": [
        "## Basic Wrangling"
      ],
      "metadata": {
        "id": "a4j3W5f4nFmU"
      }
    },
    {
      "cell_type": "code",
      "source": [
        "# What country consumes the most food per person per year (across all food categories)?\n",
        "\n",
        "df.groupby(\"country\").sum().sort_values(by=\"consumption\", ascending=False)[:1]"
      ],
      "metadata": {
        "colab": {
          "base_uri": "https://localhost:8080/",
          "height": 112
        },
        "id": "nLLdapinp2lP",
        "outputId": "d1d14172-3513-4a3f-a6c5-e1667cf97ac8"
      },
      "execution_count": 57,
      "outputs": [
        {
          "output_type": "execute_result",
          "data": {
            "text/plain": [
              "         consumption  co2_emmission\n",
              "country                            \n",
              "Finland       639.79        1464.63"
            ],
            "text/html": [
              "\n",
              "  <div id=\"df-5c621597-f5e6-4989-b172-63eef3199d97\">\n",
              "    <div class=\"colab-df-container\">\n",
              "      <div>\n",
              "<style scoped>\n",
              "    .dataframe tbody tr th:only-of-type {\n",
              "        vertical-align: middle;\n",
              "    }\n",
              "\n",
              "    .dataframe tbody tr th {\n",
              "        vertical-align: top;\n",
              "    }\n",
              "\n",
              "    .dataframe thead th {\n",
              "        text-align: right;\n",
              "    }\n",
              "</style>\n",
              "<table border=\"1\" class=\"dataframe\">\n",
              "  <thead>\n",
              "    <tr style=\"text-align: right;\">\n",
              "      <th></th>\n",
              "      <th>consumption</th>\n",
              "      <th>co2_emmission</th>\n",
              "    </tr>\n",
              "    <tr>\n",
              "      <th>country</th>\n",
              "      <th></th>\n",
              "      <th></th>\n",
              "    </tr>\n",
              "  </thead>\n",
              "  <tbody>\n",
              "    <tr>\n",
              "      <th>Finland</th>\n",
              "      <td>639.79</td>\n",
              "      <td>1464.63</td>\n",
              "    </tr>\n",
              "  </tbody>\n",
              "</table>\n",
              "</div>\n",
              "      <button class=\"colab-df-convert\" onclick=\"convertToInteractive('df-5c621597-f5e6-4989-b172-63eef3199d97')\"\n",
              "              title=\"Convert this dataframe to an interactive table.\"\n",
              "              style=\"display:none;\">\n",
              "        \n",
              "  <svg xmlns=\"http://www.w3.org/2000/svg\" height=\"24px\"viewBox=\"0 0 24 24\"\n",
              "       width=\"24px\">\n",
              "    <path d=\"M0 0h24v24H0V0z\" fill=\"none\"/>\n",
              "    <path d=\"M18.56 5.44l.94 2.06.94-2.06 2.06-.94-2.06-.94-.94-2.06-.94 2.06-2.06.94zm-11 1L8.5 8.5l.94-2.06 2.06-.94-2.06-.94L8.5 2.5l-.94 2.06-2.06.94zm10 10l.94 2.06.94-2.06 2.06-.94-2.06-.94-.94-2.06-.94 2.06-2.06.94z\"/><path d=\"M17.41 7.96l-1.37-1.37c-.4-.4-.92-.59-1.43-.59-.52 0-1.04.2-1.43.59L10.3 9.45l-7.72 7.72c-.78.78-.78 2.05 0 2.83L4 21.41c.39.39.9.59 1.41.59.51 0 1.02-.2 1.41-.59l7.78-7.78 2.81-2.81c.8-.78.8-2.07 0-2.86zM5.41 20L4 18.59l7.72-7.72 1.47 1.35L5.41 20z\"/>\n",
              "  </svg>\n",
              "      </button>\n",
              "      \n",
              "  <style>\n",
              "    .colab-df-container {\n",
              "      display:flex;\n",
              "      flex-wrap:wrap;\n",
              "      gap: 12px;\n",
              "    }\n",
              "\n",
              "    .colab-df-convert {\n",
              "      background-color: #E8F0FE;\n",
              "      border: none;\n",
              "      border-radius: 50%;\n",
              "      cursor: pointer;\n",
              "      display: none;\n",
              "      fill: #1967D2;\n",
              "      height: 32px;\n",
              "      padding: 0 0 0 0;\n",
              "      width: 32px;\n",
              "    }\n",
              "\n",
              "    .colab-df-convert:hover {\n",
              "      background-color: #E2EBFA;\n",
              "      box-shadow: 0px 1px 2px rgba(60, 64, 67, 0.3), 0px 1px 3px 1px rgba(60, 64, 67, 0.15);\n",
              "      fill: #174EA6;\n",
              "    }\n",
              "\n",
              "    [theme=dark] .colab-df-convert {\n",
              "      background-color: #3B4455;\n",
              "      fill: #D2E3FC;\n",
              "    }\n",
              "\n",
              "    [theme=dark] .colab-df-convert:hover {\n",
              "      background-color: #434B5C;\n",
              "      box-shadow: 0px 1px 3px 1px rgba(0, 0, 0, 0.15);\n",
              "      filter: drop-shadow(0px 1px 2px rgba(0, 0, 0, 0.3));\n",
              "      fill: #FFFFFF;\n",
              "    }\n",
              "  </style>\n",
              "\n",
              "      <script>\n",
              "        const buttonEl =\n",
              "          document.querySelector('#df-5c621597-f5e6-4989-b172-63eef3199d97 button.colab-df-convert');\n",
              "        buttonEl.style.display =\n",
              "          google.colab.kernel.accessAllowed ? 'block' : 'none';\n",
              "\n",
              "        async function convertToInteractive(key) {\n",
              "          const element = document.querySelector('#df-5c621597-f5e6-4989-b172-63eef3199d97');\n",
              "          const dataTable =\n",
              "            await google.colab.kernel.invokeFunction('convertToInteractive',\n",
              "                                                     [key], {});\n",
              "          if (!dataTable) return;\n",
              "\n",
              "          const docLinkHtml = 'Like what you see? Visit the ' +\n",
              "            '<a target=\"_blank\" href=https://colab.research.google.com/notebooks/data_table.ipynb>data table notebook</a>'\n",
              "            + ' to learn more about interactive tables.';\n",
              "          element.innerHTML = '';\n",
              "          dataTable['output_type'] = 'display_data';\n",
              "          await google.colab.output.renderOutput(dataTable, element);\n",
              "          const docLink = document.createElement('div');\n",
              "          docLink.innerHTML = docLinkHtml;\n",
              "          element.appendChild(docLink);\n",
              "        }\n",
              "      </script>\n",
              "    </div>\n",
              "  </div>\n",
              "  "
            ]
          },
          "metadata": {},
          "execution_count": 57
        }
      ]
    },
    {
      "cell_type": "code",
      "source": [
        "# Which food category is the biggest contributor to the above country's consumption total?\n",
        "df.query(\"country == 'Finland'\").sort_values(by=\"consumption\", ascending=False)"
      ],
      "metadata": {
        "colab": {
          "base_uri": "https://localhost:8080/",
          "height": 394
        },
        "id": "coqbE5hUqZwv",
        "outputId": "ed836654-dca8-4d14-87ca-2ca005b2e9b1"
      },
      "execution_count": 58,
      "outputs": [
        {
          "output_type": "execute_result",
          "data": {
            "text/plain": [
              "     country             food_category  consumption  co2_emmission\n",
              "149  Finland        Milk - inc. cheese       430.76         613.57\n",
              "150  Finland  Wheat and Wheat Products        81.99          15.64\n",
              "143  Finland                      Pork        36.14         127.92\n",
              "147  Finland                      Fish        33.80          53.97\n",
              "144  Finland                   Poultry        19.87          21.34\n",
              "145  Finland                      Beef        19.22         593.09\n",
              "148  Finland                      Eggs         9.55           8.77\n",
              "151  Finland                      Rice         4.42           5.66\n",
              "153  Finland   Nuts inc. Peanut Butter         3.43           6.07\n",
              "146  Finland               Lamb & Goat         0.53          18.56\n",
              "152  Finland                  Soybeans         0.08           0.04"
            ],
            "text/html": [
              "\n",
              "  <div id=\"df-3c125257-6fba-4403-aa25-d3f1a602d220\">\n",
              "    <div class=\"colab-df-container\">\n",
              "      <div>\n",
              "<style scoped>\n",
              "    .dataframe tbody tr th:only-of-type {\n",
              "        vertical-align: middle;\n",
              "    }\n",
              "\n",
              "    .dataframe tbody tr th {\n",
              "        vertical-align: top;\n",
              "    }\n",
              "\n",
              "    .dataframe thead th {\n",
              "        text-align: right;\n",
              "    }\n",
              "</style>\n",
              "<table border=\"1\" class=\"dataframe\">\n",
              "  <thead>\n",
              "    <tr style=\"text-align: right;\">\n",
              "      <th></th>\n",
              "      <th>country</th>\n",
              "      <th>food_category</th>\n",
              "      <th>consumption</th>\n",
              "      <th>co2_emmission</th>\n",
              "    </tr>\n",
              "  </thead>\n",
              "  <tbody>\n",
              "    <tr>\n",
              "      <th>149</th>\n",
              "      <td>Finland</td>\n",
              "      <td>Milk - inc. cheese</td>\n",
              "      <td>430.76</td>\n",
              "      <td>613.57</td>\n",
              "    </tr>\n",
              "    <tr>\n",
              "      <th>150</th>\n",
              "      <td>Finland</td>\n",
              "      <td>Wheat and Wheat Products</td>\n",
              "      <td>81.99</td>\n",
              "      <td>15.64</td>\n",
              "    </tr>\n",
              "    <tr>\n",
              "      <th>143</th>\n",
              "      <td>Finland</td>\n",
              "      <td>Pork</td>\n",
              "      <td>36.14</td>\n",
              "      <td>127.92</td>\n",
              "    </tr>\n",
              "    <tr>\n",
              "      <th>147</th>\n",
              "      <td>Finland</td>\n",
              "      <td>Fish</td>\n",
              "      <td>33.80</td>\n",
              "      <td>53.97</td>\n",
              "    </tr>\n",
              "    <tr>\n",
              "      <th>144</th>\n",
              "      <td>Finland</td>\n",
              "      <td>Poultry</td>\n",
              "      <td>19.87</td>\n",
              "      <td>21.34</td>\n",
              "    </tr>\n",
              "    <tr>\n",
              "      <th>145</th>\n",
              "      <td>Finland</td>\n",
              "      <td>Beef</td>\n",
              "      <td>19.22</td>\n",
              "      <td>593.09</td>\n",
              "    </tr>\n",
              "    <tr>\n",
              "      <th>148</th>\n",
              "      <td>Finland</td>\n",
              "      <td>Eggs</td>\n",
              "      <td>9.55</td>\n",
              "      <td>8.77</td>\n",
              "    </tr>\n",
              "    <tr>\n",
              "      <th>151</th>\n",
              "      <td>Finland</td>\n",
              "      <td>Rice</td>\n",
              "      <td>4.42</td>\n",
              "      <td>5.66</td>\n",
              "    </tr>\n",
              "    <tr>\n",
              "      <th>153</th>\n",
              "      <td>Finland</td>\n",
              "      <td>Nuts inc. Peanut Butter</td>\n",
              "      <td>3.43</td>\n",
              "      <td>6.07</td>\n",
              "    </tr>\n",
              "    <tr>\n",
              "      <th>146</th>\n",
              "      <td>Finland</td>\n",
              "      <td>Lamb &amp; Goat</td>\n",
              "      <td>0.53</td>\n",
              "      <td>18.56</td>\n",
              "    </tr>\n",
              "    <tr>\n",
              "      <th>152</th>\n",
              "      <td>Finland</td>\n",
              "      <td>Soybeans</td>\n",
              "      <td>0.08</td>\n",
              "      <td>0.04</td>\n",
              "    </tr>\n",
              "  </tbody>\n",
              "</table>\n",
              "</div>\n",
              "      <button class=\"colab-df-convert\" onclick=\"convertToInteractive('df-3c125257-6fba-4403-aa25-d3f1a602d220')\"\n",
              "              title=\"Convert this dataframe to an interactive table.\"\n",
              "              style=\"display:none;\">\n",
              "        \n",
              "  <svg xmlns=\"http://www.w3.org/2000/svg\" height=\"24px\"viewBox=\"0 0 24 24\"\n",
              "       width=\"24px\">\n",
              "    <path d=\"M0 0h24v24H0V0z\" fill=\"none\"/>\n",
              "    <path d=\"M18.56 5.44l.94 2.06.94-2.06 2.06-.94-2.06-.94-.94-2.06-.94 2.06-2.06.94zm-11 1L8.5 8.5l.94-2.06 2.06-.94-2.06-.94L8.5 2.5l-.94 2.06-2.06.94zm10 10l.94 2.06.94-2.06 2.06-.94-2.06-.94-.94-2.06-.94 2.06-2.06.94z\"/><path d=\"M17.41 7.96l-1.37-1.37c-.4-.4-.92-.59-1.43-.59-.52 0-1.04.2-1.43.59L10.3 9.45l-7.72 7.72c-.78.78-.78 2.05 0 2.83L4 21.41c.39.39.9.59 1.41.59.51 0 1.02-.2 1.41-.59l7.78-7.78 2.81-2.81c.8-.78.8-2.07 0-2.86zM5.41 20L4 18.59l7.72-7.72 1.47 1.35L5.41 20z\"/>\n",
              "  </svg>\n",
              "      </button>\n",
              "      \n",
              "  <style>\n",
              "    .colab-df-container {\n",
              "      display:flex;\n",
              "      flex-wrap:wrap;\n",
              "      gap: 12px;\n",
              "    }\n",
              "\n",
              "    .colab-df-convert {\n",
              "      background-color: #E8F0FE;\n",
              "      border: none;\n",
              "      border-radius: 50%;\n",
              "      cursor: pointer;\n",
              "      display: none;\n",
              "      fill: #1967D2;\n",
              "      height: 32px;\n",
              "      padding: 0 0 0 0;\n",
              "      width: 32px;\n",
              "    }\n",
              "\n",
              "    .colab-df-convert:hover {\n",
              "      background-color: #E2EBFA;\n",
              "      box-shadow: 0px 1px 2px rgba(60, 64, 67, 0.3), 0px 1px 3px 1px rgba(60, 64, 67, 0.15);\n",
              "      fill: #174EA6;\n",
              "    }\n",
              "\n",
              "    [theme=dark] .colab-df-convert {\n",
              "      background-color: #3B4455;\n",
              "      fill: #D2E3FC;\n",
              "    }\n",
              "\n",
              "    [theme=dark] .colab-df-convert:hover {\n",
              "      background-color: #434B5C;\n",
              "      box-shadow: 0px 1px 3px 1px rgba(0, 0, 0, 0.15);\n",
              "      filter: drop-shadow(0px 1px 2px rgba(0, 0, 0, 0.3));\n",
              "      fill: #FFFFFF;\n",
              "    }\n",
              "  </style>\n",
              "\n",
              "      <script>\n",
              "        const buttonEl =\n",
              "          document.querySelector('#df-3c125257-6fba-4403-aa25-d3f1a602d220 button.colab-df-convert');\n",
              "        buttonEl.style.display =\n",
              "          google.colab.kernel.accessAllowed ? 'block' : 'none';\n",
              "\n",
              "        async function convertToInteractive(key) {\n",
              "          const element = document.querySelector('#df-3c125257-6fba-4403-aa25-d3f1a602d220');\n",
              "          const dataTable =\n",
              "            await google.colab.kernel.invokeFunction('convertToInteractive',\n",
              "                                                     [key], {});\n",
              "          if (!dataTable) return;\n",
              "\n",
              "          const docLinkHtml = 'Like what you see? Visit the ' +\n",
              "            '<a target=\"_blank\" href=https://colab.research.google.com/notebooks/data_table.ipynb>data table notebook</a>'\n",
              "            + ' to learn more about interactive tables.';\n",
              "          element.innerHTML = '';\n",
              "          dataTable['output_type'] = 'display_data';\n",
              "          await google.colab.output.renderOutput(dataTable, element);\n",
              "          const docLink = document.createElement('div');\n",
              "          docLink.innerHTML = docLinkHtml;\n",
              "          element.appendChild(docLink);\n",
              "        }\n",
              "      </script>\n",
              "    </div>\n",
              "  </div>\n",
              "  "
            ]
          },
          "metadata": {},
          "execution_count": 58
        }
      ]
    },
    {
      "cell_type": "code",
      "source": [
        "# What country produces the most kg C02 per person per year?\n",
        "df.groupby(\"country\").sum().sort_values(by=\"co2_emmission\", ascending=False)"
      ],
      "metadata": {
        "colab": {
          "base_uri": "https://localhost:8080/",
          "height": 455
        },
        "id": "LQeym7BYyixI",
        "outputId": "2e7df6d4-4e7e-4c80-a589-48b32fe72eac"
      },
      "execution_count": 59,
      "outputs": [
        {
          "output_type": "execute_result",
          "data": {
            "text/plain": [
              "             consumption  co2_emmission\n",
              "country                                \n",
              "Argentina         429.41        2172.40\n",
              "Australia         465.09        1938.66\n",
              "Albania           532.73        1777.85\n",
              "New Zealand       360.92        1750.95\n",
              "Iceland           472.31        1731.36\n",
              "...                  ...            ...\n",
              "Malawi             51.00         207.94\n",
              "Liberia           131.04         203.38\n",
              "Togo               74.32         188.09\n",
              "Rwanda             40.38         181.63\n",
              "Mozambique         63.41         141.40\n",
              "\n",
              "[130 rows x 2 columns]"
            ],
            "text/html": [
              "\n",
              "  <div id=\"df-b719ca23-5513-4d82-b0ec-5b5b6ea13536\">\n",
              "    <div class=\"colab-df-container\">\n",
              "      <div>\n",
              "<style scoped>\n",
              "    .dataframe tbody tr th:only-of-type {\n",
              "        vertical-align: middle;\n",
              "    }\n",
              "\n",
              "    .dataframe tbody tr th {\n",
              "        vertical-align: top;\n",
              "    }\n",
              "\n",
              "    .dataframe thead th {\n",
              "        text-align: right;\n",
              "    }\n",
              "</style>\n",
              "<table border=\"1\" class=\"dataframe\">\n",
              "  <thead>\n",
              "    <tr style=\"text-align: right;\">\n",
              "      <th></th>\n",
              "      <th>consumption</th>\n",
              "      <th>co2_emmission</th>\n",
              "    </tr>\n",
              "    <tr>\n",
              "      <th>country</th>\n",
              "      <th></th>\n",
              "      <th></th>\n",
              "    </tr>\n",
              "  </thead>\n",
              "  <tbody>\n",
              "    <tr>\n",
              "      <th>Argentina</th>\n",
              "      <td>429.41</td>\n",
              "      <td>2172.40</td>\n",
              "    </tr>\n",
              "    <tr>\n",
              "      <th>Australia</th>\n",
              "      <td>465.09</td>\n",
              "      <td>1938.66</td>\n",
              "    </tr>\n",
              "    <tr>\n",
              "      <th>Albania</th>\n",
              "      <td>532.73</td>\n",
              "      <td>1777.85</td>\n",
              "    </tr>\n",
              "    <tr>\n",
              "      <th>New Zealand</th>\n",
              "      <td>360.92</td>\n",
              "      <td>1750.95</td>\n",
              "    </tr>\n",
              "    <tr>\n",
              "      <th>Iceland</th>\n",
              "      <td>472.31</td>\n",
              "      <td>1731.36</td>\n",
              "    </tr>\n",
              "    <tr>\n",
              "      <th>...</th>\n",
              "      <td>...</td>\n",
              "      <td>...</td>\n",
              "    </tr>\n",
              "    <tr>\n",
              "      <th>Malawi</th>\n",
              "      <td>51.00</td>\n",
              "      <td>207.94</td>\n",
              "    </tr>\n",
              "    <tr>\n",
              "      <th>Liberia</th>\n",
              "      <td>131.04</td>\n",
              "      <td>203.38</td>\n",
              "    </tr>\n",
              "    <tr>\n",
              "      <th>Togo</th>\n",
              "      <td>74.32</td>\n",
              "      <td>188.09</td>\n",
              "    </tr>\n",
              "    <tr>\n",
              "      <th>Rwanda</th>\n",
              "      <td>40.38</td>\n",
              "      <td>181.63</td>\n",
              "    </tr>\n",
              "    <tr>\n",
              "      <th>Mozambique</th>\n",
              "      <td>63.41</td>\n",
              "      <td>141.40</td>\n",
              "    </tr>\n",
              "  </tbody>\n",
              "</table>\n",
              "<p>130 rows × 2 columns</p>\n",
              "</div>\n",
              "      <button class=\"colab-df-convert\" onclick=\"convertToInteractive('df-b719ca23-5513-4d82-b0ec-5b5b6ea13536')\"\n",
              "              title=\"Convert this dataframe to an interactive table.\"\n",
              "              style=\"display:none;\">\n",
              "        \n",
              "  <svg xmlns=\"http://www.w3.org/2000/svg\" height=\"24px\"viewBox=\"0 0 24 24\"\n",
              "       width=\"24px\">\n",
              "    <path d=\"M0 0h24v24H0V0z\" fill=\"none\"/>\n",
              "    <path d=\"M18.56 5.44l.94 2.06.94-2.06 2.06-.94-2.06-.94-.94-2.06-.94 2.06-2.06.94zm-11 1L8.5 8.5l.94-2.06 2.06-.94-2.06-.94L8.5 2.5l-.94 2.06-2.06.94zm10 10l.94 2.06.94-2.06 2.06-.94-2.06-.94-.94-2.06-.94 2.06-2.06.94z\"/><path d=\"M17.41 7.96l-1.37-1.37c-.4-.4-.92-.59-1.43-.59-.52 0-1.04.2-1.43.59L10.3 9.45l-7.72 7.72c-.78.78-.78 2.05 0 2.83L4 21.41c.39.39.9.59 1.41.59.51 0 1.02-.2 1.41-.59l7.78-7.78 2.81-2.81c.8-.78.8-2.07 0-2.86zM5.41 20L4 18.59l7.72-7.72 1.47 1.35L5.41 20z\"/>\n",
              "  </svg>\n",
              "      </button>\n",
              "      \n",
              "  <style>\n",
              "    .colab-df-container {\n",
              "      display:flex;\n",
              "      flex-wrap:wrap;\n",
              "      gap: 12px;\n",
              "    }\n",
              "\n",
              "    .colab-df-convert {\n",
              "      background-color: #E8F0FE;\n",
              "      border: none;\n",
              "      border-radius: 50%;\n",
              "      cursor: pointer;\n",
              "      display: none;\n",
              "      fill: #1967D2;\n",
              "      height: 32px;\n",
              "      padding: 0 0 0 0;\n",
              "      width: 32px;\n",
              "    }\n",
              "\n",
              "    .colab-df-convert:hover {\n",
              "      background-color: #E2EBFA;\n",
              "      box-shadow: 0px 1px 2px rgba(60, 64, 67, 0.3), 0px 1px 3px 1px rgba(60, 64, 67, 0.15);\n",
              "      fill: #174EA6;\n",
              "    }\n",
              "\n",
              "    [theme=dark] .colab-df-convert {\n",
              "      background-color: #3B4455;\n",
              "      fill: #D2E3FC;\n",
              "    }\n",
              "\n",
              "    [theme=dark] .colab-df-convert:hover {\n",
              "      background-color: #434B5C;\n",
              "      box-shadow: 0px 1px 3px 1px rgba(0, 0, 0, 0.15);\n",
              "      filter: drop-shadow(0px 1px 2px rgba(0, 0, 0, 0.3));\n",
              "      fill: #FFFFFF;\n",
              "    }\n",
              "  </style>\n",
              "\n",
              "      <script>\n",
              "        const buttonEl =\n",
              "          document.querySelector('#df-b719ca23-5513-4d82-b0ec-5b5b6ea13536 button.colab-df-convert');\n",
              "        buttonEl.style.display =\n",
              "          google.colab.kernel.accessAllowed ? 'block' : 'none';\n",
              "\n",
              "        async function convertToInteractive(key) {\n",
              "          const element = document.querySelector('#df-b719ca23-5513-4d82-b0ec-5b5b6ea13536');\n",
              "          const dataTable =\n",
              "            await google.colab.kernel.invokeFunction('convertToInteractive',\n",
              "                                                     [key], {});\n",
              "          if (!dataTable) return;\n",
              "\n",
              "          const docLinkHtml = 'Like what you see? Visit the ' +\n",
              "            '<a target=\"_blank\" href=https://colab.research.google.com/notebooks/data_table.ipynb>data table notebook</a>'\n",
              "            + ' to learn more about interactive tables.';\n",
              "          element.innerHTML = '';\n",
              "          dataTable['output_type'] = 'display_data';\n",
              "          await google.colab.output.renderOutput(dataTable, element);\n",
              "          const docLink = document.createElement('div');\n",
              "          docLink.innerHTML = docLinkHtml;\n",
              "          element.appendChild(docLink);\n",
              "        }\n",
              "      </script>\n",
              "    </div>\n",
              "  </div>\n",
              "  "
            ]
          },
          "metadata": {},
          "execution_count": 59
        }
      ]
    },
    {
      "cell_type": "code",
      "source": [
        "# Which food category is the biggest contributor to the above country’s C02 emissions?\n",
        "df.query(\"country=='Argentina'\").sort_values(by=\"co2_emmission\", ascending=False)"
      ],
      "metadata": {
        "colab": {
          "base_uri": "https://localhost:8080/",
          "height": 394
        },
        "id": "XHtRlICFzXno",
        "outputId": "7366e802-d815-419b-d3d0-5dc9b581ca9b"
      },
      "execution_count": 60,
      "outputs": [
        {
          "output_type": "execute_result",
          "data": {
            "text/plain": [
              "      country             food_category  consumption  co2_emmission\n",
              "2   Argentina                      Beef        55.48        1712.00\n",
              "6   Argentina        Milk - inc. cheese       195.08         277.87\n",
              "3   Argentina               Lamb & Goat         1.56          54.63\n",
              "1   Argentina                   Poultry        38.66          41.53\n",
              "0   Argentina                      Pork        10.51          37.20\n",
              "7   Argentina  Wheat and Wheat Products       103.11          19.66\n",
              "8   Argentina                      Rice         8.77          11.22\n",
              "5   Argentina                      Eggs        11.39          10.46\n",
              "4   Argentina                      Fish         4.36           6.96\n",
              "10  Argentina   Nuts inc. Peanut Butter         0.49           0.87\n",
              "9   Argentina                  Soybeans         0.00           0.00"
            ],
            "text/html": [
              "\n",
              "  <div id=\"df-092dc63f-e555-42fe-9383-1e6afda2dec5\">\n",
              "    <div class=\"colab-df-container\">\n",
              "      <div>\n",
              "<style scoped>\n",
              "    .dataframe tbody tr th:only-of-type {\n",
              "        vertical-align: middle;\n",
              "    }\n",
              "\n",
              "    .dataframe tbody tr th {\n",
              "        vertical-align: top;\n",
              "    }\n",
              "\n",
              "    .dataframe thead th {\n",
              "        text-align: right;\n",
              "    }\n",
              "</style>\n",
              "<table border=\"1\" class=\"dataframe\">\n",
              "  <thead>\n",
              "    <tr style=\"text-align: right;\">\n",
              "      <th></th>\n",
              "      <th>country</th>\n",
              "      <th>food_category</th>\n",
              "      <th>consumption</th>\n",
              "      <th>co2_emmission</th>\n",
              "    </tr>\n",
              "  </thead>\n",
              "  <tbody>\n",
              "    <tr>\n",
              "      <th>2</th>\n",
              "      <td>Argentina</td>\n",
              "      <td>Beef</td>\n",
              "      <td>55.48</td>\n",
              "      <td>1712.00</td>\n",
              "    </tr>\n",
              "    <tr>\n",
              "      <th>6</th>\n",
              "      <td>Argentina</td>\n",
              "      <td>Milk - inc. cheese</td>\n",
              "      <td>195.08</td>\n",
              "      <td>277.87</td>\n",
              "    </tr>\n",
              "    <tr>\n",
              "      <th>3</th>\n",
              "      <td>Argentina</td>\n",
              "      <td>Lamb &amp; Goat</td>\n",
              "      <td>1.56</td>\n",
              "      <td>54.63</td>\n",
              "    </tr>\n",
              "    <tr>\n",
              "      <th>1</th>\n",
              "      <td>Argentina</td>\n",
              "      <td>Poultry</td>\n",
              "      <td>38.66</td>\n",
              "      <td>41.53</td>\n",
              "    </tr>\n",
              "    <tr>\n",
              "      <th>0</th>\n",
              "      <td>Argentina</td>\n",
              "      <td>Pork</td>\n",
              "      <td>10.51</td>\n",
              "      <td>37.20</td>\n",
              "    </tr>\n",
              "    <tr>\n",
              "      <th>7</th>\n",
              "      <td>Argentina</td>\n",
              "      <td>Wheat and Wheat Products</td>\n",
              "      <td>103.11</td>\n",
              "      <td>19.66</td>\n",
              "    </tr>\n",
              "    <tr>\n",
              "      <th>8</th>\n",
              "      <td>Argentina</td>\n",
              "      <td>Rice</td>\n",
              "      <td>8.77</td>\n",
              "      <td>11.22</td>\n",
              "    </tr>\n",
              "    <tr>\n",
              "      <th>5</th>\n",
              "      <td>Argentina</td>\n",
              "      <td>Eggs</td>\n",
              "      <td>11.39</td>\n",
              "      <td>10.46</td>\n",
              "    </tr>\n",
              "    <tr>\n",
              "      <th>4</th>\n",
              "      <td>Argentina</td>\n",
              "      <td>Fish</td>\n",
              "      <td>4.36</td>\n",
              "      <td>6.96</td>\n",
              "    </tr>\n",
              "    <tr>\n",
              "      <th>10</th>\n",
              "      <td>Argentina</td>\n",
              "      <td>Nuts inc. Peanut Butter</td>\n",
              "      <td>0.49</td>\n",
              "      <td>0.87</td>\n",
              "    </tr>\n",
              "    <tr>\n",
              "      <th>9</th>\n",
              "      <td>Argentina</td>\n",
              "      <td>Soybeans</td>\n",
              "      <td>0.00</td>\n",
              "      <td>0.00</td>\n",
              "    </tr>\n",
              "  </tbody>\n",
              "</table>\n",
              "</div>\n",
              "      <button class=\"colab-df-convert\" onclick=\"convertToInteractive('df-092dc63f-e555-42fe-9383-1e6afda2dec5')\"\n",
              "              title=\"Convert this dataframe to an interactive table.\"\n",
              "              style=\"display:none;\">\n",
              "        \n",
              "  <svg xmlns=\"http://www.w3.org/2000/svg\" height=\"24px\"viewBox=\"0 0 24 24\"\n",
              "       width=\"24px\">\n",
              "    <path d=\"M0 0h24v24H0V0z\" fill=\"none\"/>\n",
              "    <path d=\"M18.56 5.44l.94 2.06.94-2.06 2.06-.94-2.06-.94-.94-2.06-.94 2.06-2.06.94zm-11 1L8.5 8.5l.94-2.06 2.06-.94-2.06-.94L8.5 2.5l-.94 2.06-2.06.94zm10 10l.94 2.06.94-2.06 2.06-.94-2.06-.94-.94-2.06-.94 2.06-2.06.94z\"/><path d=\"M17.41 7.96l-1.37-1.37c-.4-.4-.92-.59-1.43-.59-.52 0-1.04.2-1.43.59L10.3 9.45l-7.72 7.72c-.78.78-.78 2.05 0 2.83L4 21.41c.39.39.9.59 1.41.59.51 0 1.02-.2 1.41-.59l7.78-7.78 2.81-2.81c.8-.78.8-2.07 0-2.86zM5.41 20L4 18.59l7.72-7.72 1.47 1.35L5.41 20z\"/>\n",
              "  </svg>\n",
              "      </button>\n",
              "      \n",
              "  <style>\n",
              "    .colab-df-container {\n",
              "      display:flex;\n",
              "      flex-wrap:wrap;\n",
              "      gap: 12px;\n",
              "    }\n",
              "\n",
              "    .colab-df-convert {\n",
              "      background-color: #E8F0FE;\n",
              "      border: none;\n",
              "      border-radius: 50%;\n",
              "      cursor: pointer;\n",
              "      display: none;\n",
              "      fill: #1967D2;\n",
              "      height: 32px;\n",
              "      padding: 0 0 0 0;\n",
              "      width: 32px;\n",
              "    }\n",
              "\n",
              "    .colab-df-convert:hover {\n",
              "      background-color: #E2EBFA;\n",
              "      box-shadow: 0px 1px 2px rgba(60, 64, 67, 0.3), 0px 1px 3px 1px rgba(60, 64, 67, 0.15);\n",
              "      fill: #174EA6;\n",
              "    }\n",
              "\n",
              "    [theme=dark] .colab-df-convert {\n",
              "      background-color: #3B4455;\n",
              "      fill: #D2E3FC;\n",
              "    }\n",
              "\n",
              "    [theme=dark] .colab-df-convert:hover {\n",
              "      background-color: #434B5C;\n",
              "      box-shadow: 0px 1px 3px 1px rgba(0, 0, 0, 0.15);\n",
              "      filter: drop-shadow(0px 1px 2px rgba(0, 0, 0, 0.3));\n",
              "      fill: #FFFFFF;\n",
              "    }\n",
              "  </style>\n",
              "\n",
              "      <script>\n",
              "        const buttonEl =\n",
              "          document.querySelector('#df-092dc63f-e555-42fe-9383-1e6afda2dec5 button.colab-df-convert');\n",
              "        buttonEl.style.display =\n",
              "          google.colab.kernel.accessAllowed ? 'block' : 'none';\n",
              "\n",
              "        async function convertToInteractive(key) {\n",
              "          const element = document.querySelector('#df-092dc63f-e555-42fe-9383-1e6afda2dec5');\n",
              "          const dataTable =\n",
              "            await google.colab.kernel.invokeFunction('convertToInteractive',\n",
              "                                                     [key], {});\n",
              "          if (!dataTable) return;\n",
              "\n",
              "          const docLinkHtml = 'Like what you see? Visit the ' +\n",
              "            '<a target=\"_blank\" href=https://colab.research.google.com/notebooks/data_table.ipynb>data table notebook</a>'\n",
              "            + ' to learn more about interactive tables.';\n",
              "          element.innerHTML = '';\n",
              "          dataTable['output_type'] = 'display_data';\n",
              "          await google.colab.output.renderOutput(dataTable, element);\n",
              "          const docLink = document.createElement('div');\n",
              "          docLink.innerHTML = docLinkHtml;\n",
              "          element.appendChild(docLink);\n",
              "        }\n",
              "      </script>\n",
              "    </div>\n",
              "  </div>\n",
              "  "
            ]
          },
          "metadata": {},
          "execution_count": 60
        }
      ]
    },
    {
      "cell_type": "code",
      "source": [
        "# What food category produces the most C02 per person per year across all countries?\n",
        "df.groupby(\"food_category\").sum().sort_values(by=\"co2_emmission\", ascending=False)"
      ],
      "metadata": {
        "colab": {
          "base_uri": "https://localhost:8080/",
          "height": 426
        },
        "id": "IxQM0Uj7zn41",
        "outputId": "0773989c-e43e-4d8e-b8c0-77a321f94031"
      },
      "execution_count": 61,
      "outputs": [
        {
          "output_type": "execute_result",
          "data": {
            "text/plain": [
              "                          consumption  co2_emmission\n",
              "food_category                                       \n",
              "Beef                          1576.04       48633.26\n",
              "Milk - inc. cheese           16350.71       23290.00\n",
              "Lamb & Goat                    338.02       11837.38\n",
              "Pork                          2096.08        7419.11\n",
              "Rice                          3818.77        4886.91\n",
              "Fish                          2247.32        3588.22\n",
              "Poultry                       2758.50        2963.16\n",
              "Wheat and Wheat Products      9301.44        1773.78\n",
              "Eggs                          1061.29         974.95\n",
              "Nuts inc. Peanut Butter        537.84         951.99\n",
              "Soybeans                       111.87          50.35"
            ],
            "text/html": [
              "\n",
              "  <div id=\"df-d7053183-4a58-4195-98cb-0b6f3d40b63e\">\n",
              "    <div class=\"colab-df-container\">\n",
              "      <div>\n",
              "<style scoped>\n",
              "    .dataframe tbody tr th:only-of-type {\n",
              "        vertical-align: middle;\n",
              "    }\n",
              "\n",
              "    .dataframe tbody tr th {\n",
              "        vertical-align: top;\n",
              "    }\n",
              "\n",
              "    .dataframe thead th {\n",
              "        text-align: right;\n",
              "    }\n",
              "</style>\n",
              "<table border=\"1\" class=\"dataframe\">\n",
              "  <thead>\n",
              "    <tr style=\"text-align: right;\">\n",
              "      <th></th>\n",
              "      <th>consumption</th>\n",
              "      <th>co2_emmission</th>\n",
              "    </tr>\n",
              "    <tr>\n",
              "      <th>food_category</th>\n",
              "      <th></th>\n",
              "      <th></th>\n",
              "    </tr>\n",
              "  </thead>\n",
              "  <tbody>\n",
              "    <tr>\n",
              "      <th>Beef</th>\n",
              "      <td>1576.04</td>\n",
              "      <td>48633.26</td>\n",
              "    </tr>\n",
              "    <tr>\n",
              "      <th>Milk - inc. cheese</th>\n",
              "      <td>16350.71</td>\n",
              "      <td>23290.00</td>\n",
              "    </tr>\n",
              "    <tr>\n",
              "      <th>Lamb &amp; Goat</th>\n",
              "      <td>338.02</td>\n",
              "      <td>11837.38</td>\n",
              "    </tr>\n",
              "    <tr>\n",
              "      <th>Pork</th>\n",
              "      <td>2096.08</td>\n",
              "      <td>7419.11</td>\n",
              "    </tr>\n",
              "    <tr>\n",
              "      <th>Rice</th>\n",
              "      <td>3818.77</td>\n",
              "      <td>4886.91</td>\n",
              "    </tr>\n",
              "    <tr>\n",
              "      <th>Fish</th>\n",
              "      <td>2247.32</td>\n",
              "      <td>3588.22</td>\n",
              "    </tr>\n",
              "    <tr>\n",
              "      <th>Poultry</th>\n",
              "      <td>2758.50</td>\n",
              "      <td>2963.16</td>\n",
              "    </tr>\n",
              "    <tr>\n",
              "      <th>Wheat and Wheat Products</th>\n",
              "      <td>9301.44</td>\n",
              "      <td>1773.78</td>\n",
              "    </tr>\n",
              "    <tr>\n",
              "      <th>Eggs</th>\n",
              "      <td>1061.29</td>\n",
              "      <td>974.95</td>\n",
              "    </tr>\n",
              "    <tr>\n",
              "      <th>Nuts inc. Peanut Butter</th>\n",
              "      <td>537.84</td>\n",
              "      <td>951.99</td>\n",
              "    </tr>\n",
              "    <tr>\n",
              "      <th>Soybeans</th>\n",
              "      <td>111.87</td>\n",
              "      <td>50.35</td>\n",
              "    </tr>\n",
              "  </tbody>\n",
              "</table>\n",
              "</div>\n",
              "      <button class=\"colab-df-convert\" onclick=\"convertToInteractive('df-d7053183-4a58-4195-98cb-0b6f3d40b63e')\"\n",
              "              title=\"Convert this dataframe to an interactive table.\"\n",
              "              style=\"display:none;\">\n",
              "        \n",
              "  <svg xmlns=\"http://www.w3.org/2000/svg\" height=\"24px\"viewBox=\"0 0 24 24\"\n",
              "       width=\"24px\">\n",
              "    <path d=\"M0 0h24v24H0V0z\" fill=\"none\"/>\n",
              "    <path d=\"M18.56 5.44l.94 2.06.94-2.06 2.06-.94-2.06-.94-.94-2.06-.94 2.06-2.06.94zm-11 1L8.5 8.5l.94-2.06 2.06-.94-2.06-.94L8.5 2.5l-.94 2.06-2.06.94zm10 10l.94 2.06.94-2.06 2.06-.94-2.06-.94-.94-2.06-.94 2.06-2.06.94z\"/><path d=\"M17.41 7.96l-1.37-1.37c-.4-.4-.92-.59-1.43-.59-.52 0-1.04.2-1.43.59L10.3 9.45l-7.72 7.72c-.78.78-.78 2.05 0 2.83L4 21.41c.39.39.9.59 1.41.59.51 0 1.02-.2 1.41-.59l7.78-7.78 2.81-2.81c.8-.78.8-2.07 0-2.86zM5.41 20L4 18.59l7.72-7.72 1.47 1.35L5.41 20z\"/>\n",
              "  </svg>\n",
              "      </button>\n",
              "      \n",
              "  <style>\n",
              "    .colab-df-container {\n",
              "      display:flex;\n",
              "      flex-wrap:wrap;\n",
              "      gap: 12px;\n",
              "    }\n",
              "\n",
              "    .colab-df-convert {\n",
              "      background-color: #E8F0FE;\n",
              "      border: none;\n",
              "      border-radius: 50%;\n",
              "      cursor: pointer;\n",
              "      display: none;\n",
              "      fill: #1967D2;\n",
              "      height: 32px;\n",
              "      padding: 0 0 0 0;\n",
              "      width: 32px;\n",
              "    }\n",
              "\n",
              "    .colab-df-convert:hover {\n",
              "      background-color: #E2EBFA;\n",
              "      box-shadow: 0px 1px 2px rgba(60, 64, 67, 0.3), 0px 1px 3px 1px rgba(60, 64, 67, 0.15);\n",
              "      fill: #174EA6;\n",
              "    }\n",
              "\n",
              "    [theme=dark] .colab-df-convert {\n",
              "      background-color: #3B4455;\n",
              "      fill: #D2E3FC;\n",
              "    }\n",
              "\n",
              "    [theme=dark] .colab-df-convert:hover {\n",
              "      background-color: #434B5C;\n",
              "      box-shadow: 0px 1px 3px 1px rgba(0, 0, 0, 0.15);\n",
              "      filter: drop-shadow(0px 1px 2px rgba(0, 0, 0, 0.3));\n",
              "      fill: #FFFFFF;\n",
              "    }\n",
              "  </style>\n",
              "\n",
              "      <script>\n",
              "        const buttonEl =\n",
              "          document.querySelector('#df-d7053183-4a58-4195-98cb-0b6f3d40b63e button.colab-df-convert');\n",
              "        buttonEl.style.display =\n",
              "          google.colab.kernel.accessAllowed ? 'block' : 'none';\n",
              "\n",
              "        async function convertToInteractive(key) {\n",
              "          const element = document.querySelector('#df-d7053183-4a58-4195-98cb-0b6f3d40b63e');\n",
              "          const dataTable =\n",
              "            await google.colab.kernel.invokeFunction('convertToInteractive',\n",
              "                                                     [key], {});\n",
              "          if (!dataTable) return;\n",
              "\n",
              "          const docLinkHtml = 'Like what you see? Visit the ' +\n",
              "            '<a target=\"_blank\" href=https://colab.research.google.com/notebooks/data_table.ipynb>data table notebook</a>'\n",
              "            + ' to learn more about interactive tables.';\n",
              "          element.innerHTML = '';\n",
              "          dataTable['output_type'] = 'display_data';\n",
              "          await google.colab.output.renderOutput(dataTable, element);\n",
              "          const docLink = document.createElement('div');\n",
              "          docLink.innerHTML = docLinkHtml;\n",
              "          element.appendChild(docLink);\n",
              "        }\n",
              "      </script>\n",
              "    </div>\n",
              "  </div>\n",
              "  "
            ]
          },
          "metadata": {},
          "execution_count": 61
        }
      ]
    },
    {
      "cell_type": "code",
      "source": [
        "# What food category is consumed the most across all countries per person per year? What food category is consumed the least across all countries?\n",
        "\n",
        "print(f'Least comsumption:{df.groupby(\"food_category\").sum().sort_values(by=\"consumption\").head(1)}')\n",
        "print(f\"Most consumtion: {df.groupby('food_category').sum().sort_values(by='consumption').tail(1)}\")"
      ],
      "metadata": {
        "colab": {
          "base_uri": "https://localhost:8080/"
        },
        "id": "JcrdNw-B0KsU",
        "outputId": "9da28a4c-8cd6-4b35-a238-b7dba684967d"
      },
      "execution_count": 62,
      "outputs": [
        {
          "output_type": "stream",
          "name": "stdout",
          "text": [
            "Least comsumption:               consumption  co2_emmission\n",
            "food_category                            \n",
            "Soybeans            111.87          50.35\n",
            "Most consumtion:                     consumption  co2_emmission\n",
            "food_category                                 \n",
            "Milk - inc. cheese     16350.71        23290.0\n"
          ]
        }
      ]
    },
    {
      "cell_type": "code",
      "source": [
        "# Make the dataset wide by pivoting on the food_category column. You’ll end up with a “multi-index” dataframe, with multiple levels of columns.\n",
        "\n",
        "pt = df.pivot(index=\"country\", columns=\"food_category\")\n",
        "pt.T"
      ],
      "metadata": {
        "colab": {
          "base_uri": "https://localhost:8080/",
          "height": 1000
        },
        "id": "rTQNZwxJ0mLS",
        "outputId": "735645ef-5758-4c53-c69c-12cad99a6df3"
      },
      "execution_count": 63,
      "outputs": [
        {
          "output_type": "execute_result",
          "data": {
            "text/plain": [
              "country                                 Albania  Algeria  Angola  Argentina  \\\n",
              "              food_category                                                   \n",
              "consumption   Beef                        22.50     5.60    8.42      55.48   \n",
              "              Eggs                        12.45     8.06    1.11      11.39   \n",
              "              Fish                         3.85     3.74   15.24       4.36   \n",
              "              Lamb & Goat                 15.32     7.69    1.08       1.56   \n",
              "              Milk - inc. cheese         303.72   141.53   12.30     195.08   \n",
              "              Nuts inc. Peanut Butter      4.36     2.08    2.26       0.49   \n",
              "              Pork                        10.88     0.00    8.89      10.51   \n",
              "              Poultry                     13.23     7.42   17.33      38.66   \n",
              "              Rice                         7.78     2.97    8.12       8.77   \n",
              "              Soybeans                     0.00     0.00    0.52       0.00   \n",
              "              Wheat and Wheat Products   138.64   185.42   40.72     103.11   \n",
              "co2_emmission Beef                       694.30   172.80  259.82    1712.00   \n",
              "              Eggs                        11.44     7.40    1.02      10.46   \n",
              "              Fish                         6.15     5.97   24.33       6.96   \n",
              "              Lamb & Goat                536.50   269.30   37.82      54.63   \n",
              "              Milk - inc. cheese         432.62   201.60   17.52     277.87   \n",
              "              Nuts inc. Peanut Butter      7.72     3.68    4.00       0.87   \n",
              "              Pork                        38.51     0.00   31.47      37.20   \n",
              "              Poultry                     14.21     7.97   18.62      41.53   \n",
              "              Rice                         9.96     3.80   10.39      11.22   \n",
              "              Soybeans                     0.00     0.00    0.23       0.00   \n",
              "              Wheat and Wheat Products    26.44    35.36    7.77      19.66   \n",
              "\n",
              "country                                 Armenia  Australia  Austria  Bahamas  \\\n",
              "              food_category                                                    \n",
              "consumption   Beef                        19.66      33.86    17.14    19.92   \n",
              "              Eggs                        11.69       8.51    14.68     6.20   \n",
              "              Fish                         4.36      17.69    12.16    18.80   \n",
              "              Lamb & Goat                  3.02       9.87     1.16     5.22   \n",
              "              Milk - inc. cheese         209.03     234.49   258.09   104.76   \n",
              "              Nuts inc. Peanut Butter      2.55       8.73     7.88     4.03   \n",
              "              Pork                         9.67      24.14    52.56    32.74   \n",
              "              Poultry                     13.35      46.12    18.61    45.74   \n",
              "              Rice                         3.18      11.03     3.70    23.97   \n",
              "              Soybeans                     0.00       0.19     2.06     0.09   \n",
              "              Wheat and Wheat Products   130.60      70.46    81.10    39.98   \n",
              "co2_emmission Beef                       606.67    1044.85   528.90   614.69   \n",
              "              Eggs                        10.74       7.82    13.49     5.70   \n",
              "              Fish                         6.96      28.25    19.42    30.02   \n",
              "              Lamb & Goat                105.76     345.65    40.62   182.80   \n",
              "              Milk - inc. cheese         297.74     334.01   367.62   149.22   \n",
              "              Nuts inc. Peanut Butter      4.51      15.45    13.95     7.13   \n",
              "              Pork                        34.23      85.44   186.04   115.88   \n",
              "              Poultry                     14.34      49.54    19.99    49.13   \n",
              "              Rice                         4.07      14.12     4.73    30.67   \n",
              "              Soybeans                     0.00       0.09     0.93     0.04   \n",
              "              Wheat and Wheat Products    24.91      13.44    15.47     7.62   \n",
              "\n",
              "country                                 Bangladesh  Barbados  ...      USA  \\\n",
              "              food_category                                   ...            \n",
              "consumption   Beef                            1.28     13.13  ...    36.24   \n",
              "              Eggs                            2.08      9.61  ...    14.58   \n",
              "              Fish                           18.07     37.41  ...    12.35   \n",
              "              Lamb & Goat                     1.33      4.08  ...     0.43   \n",
              "              Milk - inc. cheese             21.91    110.48  ...   254.69   \n",
              "              Nuts inc. Peanut Butter         0.72      4.16  ...     7.86   \n",
              "              Pork                            0.00      8.30  ...    27.64   \n",
              "              Poultry                         1.40     42.62  ...    50.01   \n",
              "              Rice                          171.73     15.66  ...     6.88   \n",
              "              Soybeans                        0.61      0.10  ...     0.04   \n",
              "              Wheat and Wheat Products       17.47     65.71  ...    80.43   \n",
              "co2_emmission Beef                           39.50    405.16  ...  1118.29   \n",
              "              Eggs                            1.91      8.83  ...    13.39   \n",
              "              Fish                           28.85     59.73  ...    19.72   \n",
              "              Lamb & Goat                    46.58    142.88  ...    15.06   \n",
              "              Milk - inc. cheese             31.21    157.37  ...   362.78   \n",
              "              Nuts inc. Peanut Butter         1.27      7.36  ...    13.91   \n",
              "              Pork                            0.00     29.38  ...    97.83   \n",
              "              Poultry                         1.50     45.78  ...    53.72   \n",
              "              Rice                          219.76     20.04  ...     8.80   \n",
              "              Soybeans                        0.27      0.05  ...     0.02   \n",
              "              Wheat and Wheat Products        3.33     12.53  ...    15.34   \n",
              "\n",
              "country                                 Uganda  Ukraine  United Arab Emirates  \\\n",
              "              food_category                                                     \n",
              "consumption   Beef                        5.15     8.96                  5.64   \n",
              "              Eggs                        0.97    18.01                  8.23   \n",
              "              Fish                       12.50    15.23                 20.41   \n",
              "              Lamb & Goat                 1.25     0.41                  9.08   \n",
              "              Milk - inc. cheese         37.27   145.03                132.66   \n",
              "              Nuts inc. Peanut Butter     3.77     2.68                 23.03   \n",
              "              Pork                        3.37    20.56                  0.00   \n",
              "              Poultry                     1.51    24.23                 41.04   \n",
              "              Rice                        4.64     3.00                 56.25   \n",
              "              Soybeans                    0.01     0.02                  0.08   \n",
              "              Wheat and Wheat Products   10.14   105.15                101.29   \n",
              "co2_emmission Beef                      158.92   276.49                174.04   \n",
              "              Eggs                        0.89    16.54                  7.56   \n",
              "              Fish                       19.96    24.32                 32.59   \n",
              "              Lamb & Goat                43.77    14.36                317.98   \n",
              "              Milk - inc. cheese         53.09   206.58                188.96   \n",
              "              Nuts inc. Peanut Butter     6.67     4.74                 40.76   \n",
              "              Pork                       11.93    72.77                  0.00   \n",
              "              Poultry                     1.62    26.03                 44.09   \n",
              "              Rice                        5.94     3.84                 71.98   \n",
              "              Soybeans                    0.00     0.01                  0.04   \n",
              "              Wheat and Wheat Products    1.93    20.05                 19.32   \n",
              "\n",
              "country                                 United Kingdom  Uruguay  Venezuela  \\\n",
              "              food_category                                                  \n",
              "consumption   Beef                               18.12    29.10      25.89   \n",
              "              Eggs                               11.08    13.14       5.63   \n",
              "              Fish                               15.49     6.53       8.34   \n",
              "              Lamb & Goat                         4.49     8.23       0.32   \n",
              "              Milk - inc. cheese                232.20   210.54     117.79   \n",
              "              Nuts inc. Peanut Butter             4.18     0.95       0.35   \n",
              "              Pork                               25.79    16.84       7.23   \n",
              "              Poultry                            31.55    27.45      39.28   \n",
              "              Rice                                6.39    11.50      23.39   \n",
              "              Soybeans                            0.05     0.01       0.00   \n",
              "              Wheat and Wheat Products           98.63   109.31      49.17   \n",
              "co2_emmission Beef                              559.15   897.96     798.91   \n",
              "              Eggs                               10.18    12.07       5.17   \n",
              "              Fish                               24.73    10.43      13.32   \n",
              "              Lamb & Goat                       157.24   288.21      11.21   \n",
              "              Milk - inc. cheese                330.75   299.89     167.78   \n",
              "              Nuts inc. Peanut Butter             7.40     1.68       0.62   \n",
              "              Pork                               91.28    59.61      25.59   \n",
              "              Poultry                            33.89    29.49      42.19   \n",
              "              Rice                                8.18    14.72      29.93   \n",
              "              Soybeans                            0.02     0.00       0.00   \n",
              "              Wheat and Wheat Products           18.81    20.85       9.38   \n",
              "\n",
              "country                                 Vietnam  Zambia  Zimbabwe  \n",
              "              food_category                                        \n",
              "consumption   Beef                         7.44    4.76      7.37  \n",
              "              Eggs                         3.84    3.32      1.75  \n",
              "              Fish                        26.52    6.20      2.80  \n",
              "              Lamb & Goat                  0.14    0.68      0.96  \n",
              "              Milk - inc. cheese          16.36    9.71     31.90  \n",
              "              Nuts inc. Peanut Butter      6.28    5.04      2.22  \n",
              "              Pork                        35.00    1.66      2.65  \n",
              "              Poultry                     12.36    3.29      4.97  \n",
              "              Rice                       144.56    3.05     10.09  \n",
              "              Soybeans                     5.75    7.30      0.54  \n",
              "              Wheat and Wheat Products    10.49   12.10     31.31  \n",
              "co2_emmission Beef                       229.58  146.88    227.42  \n",
              "              Eggs                         3.53    3.05      1.61  \n",
              "              Fish                        42.34    9.90      4.47  \n",
              "              Lamb & Goat                  4.90   23.81     33.62  \n",
              "              Milk - inc. cheese          23.30   13.83     45.44  \n",
              "              Nuts inc. Peanut Butter     11.12    8.92      3.93  \n",
              "              Pork                       123.88    5.88      9.38  \n",
              "              Poultry                     13.28    3.53      5.34  \n",
              "              Rice                       184.99    3.90     12.91  \n",
              "              Soybeans                     2.59    3.29      0.24  \n",
              "              Wheat and Wheat Products     2.00    2.31      5.97  \n",
              "\n",
              "[22 rows x 130 columns]"
            ],
            "text/html": [
              "\n",
              "  <div id=\"df-8a4c299a-a239-4aba-baff-fb449af2d8d2\">\n",
              "    <div class=\"colab-df-container\">\n",
              "      <div>\n",
              "<style scoped>\n",
              "    .dataframe tbody tr th:only-of-type {\n",
              "        vertical-align: middle;\n",
              "    }\n",
              "\n",
              "    .dataframe tbody tr th {\n",
              "        vertical-align: top;\n",
              "    }\n",
              "\n",
              "    .dataframe thead th {\n",
              "        text-align: right;\n",
              "    }\n",
              "</style>\n",
              "<table border=\"1\" class=\"dataframe\">\n",
              "  <thead>\n",
              "    <tr style=\"text-align: right;\">\n",
              "      <th></th>\n",
              "      <th>country</th>\n",
              "      <th>Albania</th>\n",
              "      <th>Algeria</th>\n",
              "      <th>Angola</th>\n",
              "      <th>Argentina</th>\n",
              "      <th>Armenia</th>\n",
              "      <th>Australia</th>\n",
              "      <th>Austria</th>\n",
              "      <th>Bahamas</th>\n",
              "      <th>Bangladesh</th>\n",
              "      <th>Barbados</th>\n",
              "      <th>...</th>\n",
              "      <th>USA</th>\n",
              "      <th>Uganda</th>\n",
              "      <th>Ukraine</th>\n",
              "      <th>United Arab Emirates</th>\n",
              "      <th>United Kingdom</th>\n",
              "      <th>Uruguay</th>\n",
              "      <th>Venezuela</th>\n",
              "      <th>Vietnam</th>\n",
              "      <th>Zambia</th>\n",
              "      <th>Zimbabwe</th>\n",
              "    </tr>\n",
              "    <tr>\n",
              "      <th></th>\n",
              "      <th>food_category</th>\n",
              "      <th></th>\n",
              "      <th></th>\n",
              "      <th></th>\n",
              "      <th></th>\n",
              "      <th></th>\n",
              "      <th></th>\n",
              "      <th></th>\n",
              "      <th></th>\n",
              "      <th></th>\n",
              "      <th></th>\n",
              "      <th></th>\n",
              "      <th></th>\n",
              "      <th></th>\n",
              "      <th></th>\n",
              "      <th></th>\n",
              "      <th></th>\n",
              "      <th></th>\n",
              "      <th></th>\n",
              "      <th></th>\n",
              "      <th></th>\n",
              "      <th></th>\n",
              "    </tr>\n",
              "  </thead>\n",
              "  <tbody>\n",
              "    <tr>\n",
              "      <th rowspan=\"11\" valign=\"top\">consumption</th>\n",
              "      <th>Beef</th>\n",
              "      <td>22.50</td>\n",
              "      <td>5.60</td>\n",
              "      <td>8.42</td>\n",
              "      <td>55.48</td>\n",
              "      <td>19.66</td>\n",
              "      <td>33.86</td>\n",
              "      <td>17.14</td>\n",
              "      <td>19.92</td>\n",
              "      <td>1.28</td>\n",
              "      <td>13.13</td>\n",
              "      <td>...</td>\n",
              "      <td>36.24</td>\n",
              "      <td>5.15</td>\n",
              "      <td>8.96</td>\n",
              "      <td>5.64</td>\n",
              "      <td>18.12</td>\n",
              "      <td>29.10</td>\n",
              "      <td>25.89</td>\n",
              "      <td>7.44</td>\n",
              "      <td>4.76</td>\n",
              "      <td>7.37</td>\n",
              "    </tr>\n",
              "    <tr>\n",
              "      <th>Eggs</th>\n",
              "      <td>12.45</td>\n",
              "      <td>8.06</td>\n",
              "      <td>1.11</td>\n",
              "      <td>11.39</td>\n",
              "      <td>11.69</td>\n",
              "      <td>8.51</td>\n",
              "      <td>14.68</td>\n",
              "      <td>6.20</td>\n",
              "      <td>2.08</td>\n",
              "      <td>9.61</td>\n",
              "      <td>...</td>\n",
              "      <td>14.58</td>\n",
              "      <td>0.97</td>\n",
              "      <td>18.01</td>\n",
              "      <td>8.23</td>\n",
              "      <td>11.08</td>\n",
              "      <td>13.14</td>\n",
              "      <td>5.63</td>\n",
              "      <td>3.84</td>\n",
              "      <td>3.32</td>\n",
              "      <td>1.75</td>\n",
              "    </tr>\n",
              "    <tr>\n",
              "      <th>Fish</th>\n",
              "      <td>3.85</td>\n",
              "      <td>3.74</td>\n",
              "      <td>15.24</td>\n",
              "      <td>4.36</td>\n",
              "      <td>4.36</td>\n",
              "      <td>17.69</td>\n",
              "      <td>12.16</td>\n",
              "      <td>18.80</td>\n",
              "      <td>18.07</td>\n",
              "      <td>37.41</td>\n",
              "      <td>...</td>\n",
              "      <td>12.35</td>\n",
              "      <td>12.50</td>\n",
              "      <td>15.23</td>\n",
              "      <td>20.41</td>\n",
              "      <td>15.49</td>\n",
              "      <td>6.53</td>\n",
              "      <td>8.34</td>\n",
              "      <td>26.52</td>\n",
              "      <td>6.20</td>\n",
              "      <td>2.80</td>\n",
              "    </tr>\n",
              "    <tr>\n",
              "      <th>Lamb &amp; Goat</th>\n",
              "      <td>15.32</td>\n",
              "      <td>7.69</td>\n",
              "      <td>1.08</td>\n",
              "      <td>1.56</td>\n",
              "      <td>3.02</td>\n",
              "      <td>9.87</td>\n",
              "      <td>1.16</td>\n",
              "      <td>5.22</td>\n",
              "      <td>1.33</td>\n",
              "      <td>4.08</td>\n",
              "      <td>...</td>\n",
              "      <td>0.43</td>\n",
              "      <td>1.25</td>\n",
              "      <td>0.41</td>\n",
              "      <td>9.08</td>\n",
              "      <td>4.49</td>\n",
              "      <td>8.23</td>\n",
              "      <td>0.32</td>\n",
              "      <td>0.14</td>\n",
              "      <td>0.68</td>\n",
              "      <td>0.96</td>\n",
              "    </tr>\n",
              "    <tr>\n",
              "      <th>Milk - inc. cheese</th>\n",
              "      <td>303.72</td>\n",
              "      <td>141.53</td>\n",
              "      <td>12.30</td>\n",
              "      <td>195.08</td>\n",
              "      <td>209.03</td>\n",
              "      <td>234.49</td>\n",
              "      <td>258.09</td>\n",
              "      <td>104.76</td>\n",
              "      <td>21.91</td>\n",
              "      <td>110.48</td>\n",
              "      <td>...</td>\n",
              "      <td>254.69</td>\n",
              "      <td>37.27</td>\n",
              "      <td>145.03</td>\n",
              "      <td>132.66</td>\n",
              "      <td>232.20</td>\n",
              "      <td>210.54</td>\n",
              "      <td>117.79</td>\n",
              "      <td>16.36</td>\n",
              "      <td>9.71</td>\n",
              "      <td>31.90</td>\n",
              "    </tr>\n",
              "    <tr>\n",
              "      <th>Nuts inc. Peanut Butter</th>\n",
              "      <td>4.36</td>\n",
              "      <td>2.08</td>\n",
              "      <td>2.26</td>\n",
              "      <td>0.49</td>\n",
              "      <td>2.55</td>\n",
              "      <td>8.73</td>\n",
              "      <td>7.88</td>\n",
              "      <td>4.03</td>\n",
              "      <td>0.72</td>\n",
              "      <td>4.16</td>\n",
              "      <td>...</td>\n",
              "      <td>7.86</td>\n",
              "      <td>3.77</td>\n",
              "      <td>2.68</td>\n",
              "      <td>23.03</td>\n",
              "      <td>4.18</td>\n",
              "      <td>0.95</td>\n",
              "      <td>0.35</td>\n",
              "      <td>6.28</td>\n",
              "      <td>5.04</td>\n",
              "      <td>2.22</td>\n",
              "    </tr>\n",
              "    <tr>\n",
              "      <th>Pork</th>\n",
              "      <td>10.88</td>\n",
              "      <td>0.00</td>\n",
              "      <td>8.89</td>\n",
              "      <td>10.51</td>\n",
              "      <td>9.67</td>\n",
              "      <td>24.14</td>\n",
              "      <td>52.56</td>\n",
              "      <td>32.74</td>\n",
              "      <td>0.00</td>\n",
              "      <td>8.30</td>\n",
              "      <td>...</td>\n",
              "      <td>27.64</td>\n",
              "      <td>3.37</td>\n",
              "      <td>20.56</td>\n",
              "      <td>0.00</td>\n",
              "      <td>25.79</td>\n",
              "      <td>16.84</td>\n",
              "      <td>7.23</td>\n",
              "      <td>35.00</td>\n",
              "      <td>1.66</td>\n",
              "      <td>2.65</td>\n",
              "    </tr>\n",
              "    <tr>\n",
              "      <th>Poultry</th>\n",
              "      <td>13.23</td>\n",
              "      <td>7.42</td>\n",
              "      <td>17.33</td>\n",
              "      <td>38.66</td>\n",
              "      <td>13.35</td>\n",
              "      <td>46.12</td>\n",
              "      <td>18.61</td>\n",
              "      <td>45.74</td>\n",
              "      <td>1.40</td>\n",
              "      <td>42.62</td>\n",
              "      <td>...</td>\n",
              "      <td>50.01</td>\n",
              "      <td>1.51</td>\n",
              "      <td>24.23</td>\n",
              "      <td>41.04</td>\n",
              "      <td>31.55</td>\n",
              "      <td>27.45</td>\n",
              "      <td>39.28</td>\n",
              "      <td>12.36</td>\n",
              "      <td>3.29</td>\n",
              "      <td>4.97</td>\n",
              "    </tr>\n",
              "    <tr>\n",
              "      <th>Rice</th>\n",
              "      <td>7.78</td>\n",
              "      <td>2.97</td>\n",
              "      <td>8.12</td>\n",
              "      <td>8.77</td>\n",
              "      <td>3.18</td>\n",
              "      <td>11.03</td>\n",
              "      <td>3.70</td>\n",
              "      <td>23.97</td>\n",
              "      <td>171.73</td>\n",
              "      <td>15.66</td>\n",
              "      <td>...</td>\n",
              "      <td>6.88</td>\n",
              "      <td>4.64</td>\n",
              "      <td>3.00</td>\n",
              "      <td>56.25</td>\n",
              "      <td>6.39</td>\n",
              "      <td>11.50</td>\n",
              "      <td>23.39</td>\n",
              "      <td>144.56</td>\n",
              "      <td>3.05</td>\n",
              "      <td>10.09</td>\n",
              "    </tr>\n",
              "    <tr>\n",
              "      <th>Soybeans</th>\n",
              "      <td>0.00</td>\n",
              "      <td>0.00</td>\n",
              "      <td>0.52</td>\n",
              "      <td>0.00</td>\n",
              "      <td>0.00</td>\n",
              "      <td>0.19</td>\n",
              "      <td>2.06</td>\n",
              "      <td>0.09</td>\n",
              "      <td>0.61</td>\n",
              "      <td>0.10</td>\n",
              "      <td>...</td>\n",
              "      <td>0.04</td>\n",
              "      <td>0.01</td>\n",
              "      <td>0.02</td>\n",
              "      <td>0.08</td>\n",
              "      <td>0.05</td>\n",
              "      <td>0.01</td>\n",
              "      <td>0.00</td>\n",
              "      <td>5.75</td>\n",
              "      <td>7.30</td>\n",
              "      <td>0.54</td>\n",
              "    </tr>\n",
              "    <tr>\n",
              "      <th>Wheat and Wheat Products</th>\n",
              "      <td>138.64</td>\n",
              "      <td>185.42</td>\n",
              "      <td>40.72</td>\n",
              "      <td>103.11</td>\n",
              "      <td>130.60</td>\n",
              "      <td>70.46</td>\n",
              "      <td>81.10</td>\n",
              "      <td>39.98</td>\n",
              "      <td>17.47</td>\n",
              "      <td>65.71</td>\n",
              "      <td>...</td>\n",
              "      <td>80.43</td>\n",
              "      <td>10.14</td>\n",
              "      <td>105.15</td>\n",
              "      <td>101.29</td>\n",
              "      <td>98.63</td>\n",
              "      <td>109.31</td>\n",
              "      <td>49.17</td>\n",
              "      <td>10.49</td>\n",
              "      <td>12.10</td>\n",
              "      <td>31.31</td>\n",
              "    </tr>\n",
              "    <tr>\n",
              "      <th rowspan=\"11\" valign=\"top\">co2_emmission</th>\n",
              "      <th>Beef</th>\n",
              "      <td>694.30</td>\n",
              "      <td>172.80</td>\n",
              "      <td>259.82</td>\n",
              "      <td>1712.00</td>\n",
              "      <td>606.67</td>\n",
              "      <td>1044.85</td>\n",
              "      <td>528.90</td>\n",
              "      <td>614.69</td>\n",
              "      <td>39.50</td>\n",
              "      <td>405.16</td>\n",
              "      <td>...</td>\n",
              "      <td>1118.29</td>\n",
              "      <td>158.92</td>\n",
              "      <td>276.49</td>\n",
              "      <td>174.04</td>\n",
              "      <td>559.15</td>\n",
              "      <td>897.96</td>\n",
              "      <td>798.91</td>\n",
              "      <td>229.58</td>\n",
              "      <td>146.88</td>\n",
              "      <td>227.42</td>\n",
              "    </tr>\n",
              "    <tr>\n",
              "      <th>Eggs</th>\n",
              "      <td>11.44</td>\n",
              "      <td>7.40</td>\n",
              "      <td>1.02</td>\n",
              "      <td>10.46</td>\n",
              "      <td>10.74</td>\n",
              "      <td>7.82</td>\n",
              "      <td>13.49</td>\n",
              "      <td>5.70</td>\n",
              "      <td>1.91</td>\n",
              "      <td>8.83</td>\n",
              "      <td>...</td>\n",
              "      <td>13.39</td>\n",
              "      <td>0.89</td>\n",
              "      <td>16.54</td>\n",
              "      <td>7.56</td>\n",
              "      <td>10.18</td>\n",
              "      <td>12.07</td>\n",
              "      <td>5.17</td>\n",
              "      <td>3.53</td>\n",
              "      <td>3.05</td>\n",
              "      <td>1.61</td>\n",
              "    </tr>\n",
              "    <tr>\n",
              "      <th>Fish</th>\n",
              "      <td>6.15</td>\n",
              "      <td>5.97</td>\n",
              "      <td>24.33</td>\n",
              "      <td>6.96</td>\n",
              "      <td>6.96</td>\n",
              "      <td>28.25</td>\n",
              "      <td>19.42</td>\n",
              "      <td>30.02</td>\n",
              "      <td>28.85</td>\n",
              "      <td>59.73</td>\n",
              "      <td>...</td>\n",
              "      <td>19.72</td>\n",
              "      <td>19.96</td>\n",
              "      <td>24.32</td>\n",
              "      <td>32.59</td>\n",
              "      <td>24.73</td>\n",
              "      <td>10.43</td>\n",
              "      <td>13.32</td>\n",
              "      <td>42.34</td>\n",
              "      <td>9.90</td>\n",
              "      <td>4.47</td>\n",
              "    </tr>\n",
              "    <tr>\n",
              "      <th>Lamb &amp; Goat</th>\n",
              "      <td>536.50</td>\n",
              "      <td>269.30</td>\n",
              "      <td>37.82</td>\n",
              "      <td>54.63</td>\n",
              "      <td>105.76</td>\n",
              "      <td>345.65</td>\n",
              "      <td>40.62</td>\n",
              "      <td>182.80</td>\n",
              "      <td>46.58</td>\n",
              "      <td>142.88</td>\n",
              "      <td>...</td>\n",
              "      <td>15.06</td>\n",
              "      <td>43.77</td>\n",
              "      <td>14.36</td>\n",
              "      <td>317.98</td>\n",
              "      <td>157.24</td>\n",
              "      <td>288.21</td>\n",
              "      <td>11.21</td>\n",
              "      <td>4.90</td>\n",
              "      <td>23.81</td>\n",
              "      <td>33.62</td>\n",
              "    </tr>\n",
              "    <tr>\n",
              "      <th>Milk - inc. cheese</th>\n",
              "      <td>432.62</td>\n",
              "      <td>201.60</td>\n",
              "      <td>17.52</td>\n",
              "      <td>277.87</td>\n",
              "      <td>297.74</td>\n",
              "      <td>334.01</td>\n",
              "      <td>367.62</td>\n",
              "      <td>149.22</td>\n",
              "      <td>31.21</td>\n",
              "      <td>157.37</td>\n",
              "      <td>...</td>\n",
              "      <td>362.78</td>\n",
              "      <td>53.09</td>\n",
              "      <td>206.58</td>\n",
              "      <td>188.96</td>\n",
              "      <td>330.75</td>\n",
              "      <td>299.89</td>\n",
              "      <td>167.78</td>\n",
              "      <td>23.30</td>\n",
              "      <td>13.83</td>\n",
              "      <td>45.44</td>\n",
              "    </tr>\n",
              "    <tr>\n",
              "      <th>Nuts inc. Peanut Butter</th>\n",
              "      <td>7.72</td>\n",
              "      <td>3.68</td>\n",
              "      <td>4.00</td>\n",
              "      <td>0.87</td>\n",
              "      <td>4.51</td>\n",
              "      <td>15.45</td>\n",
              "      <td>13.95</td>\n",
              "      <td>7.13</td>\n",
              "      <td>1.27</td>\n",
              "      <td>7.36</td>\n",
              "      <td>...</td>\n",
              "      <td>13.91</td>\n",
              "      <td>6.67</td>\n",
              "      <td>4.74</td>\n",
              "      <td>40.76</td>\n",
              "      <td>7.40</td>\n",
              "      <td>1.68</td>\n",
              "      <td>0.62</td>\n",
              "      <td>11.12</td>\n",
              "      <td>8.92</td>\n",
              "      <td>3.93</td>\n",
              "    </tr>\n",
              "    <tr>\n",
              "      <th>Pork</th>\n",
              "      <td>38.51</td>\n",
              "      <td>0.00</td>\n",
              "      <td>31.47</td>\n",
              "      <td>37.20</td>\n",
              "      <td>34.23</td>\n",
              "      <td>85.44</td>\n",
              "      <td>186.04</td>\n",
              "      <td>115.88</td>\n",
              "      <td>0.00</td>\n",
              "      <td>29.38</td>\n",
              "      <td>...</td>\n",
              "      <td>97.83</td>\n",
              "      <td>11.93</td>\n",
              "      <td>72.77</td>\n",
              "      <td>0.00</td>\n",
              "      <td>91.28</td>\n",
              "      <td>59.61</td>\n",
              "      <td>25.59</td>\n",
              "      <td>123.88</td>\n",
              "      <td>5.88</td>\n",
              "      <td>9.38</td>\n",
              "    </tr>\n",
              "    <tr>\n",
              "      <th>Poultry</th>\n",
              "      <td>14.21</td>\n",
              "      <td>7.97</td>\n",
              "      <td>18.62</td>\n",
              "      <td>41.53</td>\n",
              "      <td>14.34</td>\n",
              "      <td>49.54</td>\n",
              "      <td>19.99</td>\n",
              "      <td>49.13</td>\n",
              "      <td>1.50</td>\n",
              "      <td>45.78</td>\n",
              "      <td>...</td>\n",
              "      <td>53.72</td>\n",
              "      <td>1.62</td>\n",
              "      <td>26.03</td>\n",
              "      <td>44.09</td>\n",
              "      <td>33.89</td>\n",
              "      <td>29.49</td>\n",
              "      <td>42.19</td>\n",
              "      <td>13.28</td>\n",
              "      <td>3.53</td>\n",
              "      <td>5.34</td>\n",
              "    </tr>\n",
              "    <tr>\n",
              "      <th>Rice</th>\n",
              "      <td>9.96</td>\n",
              "      <td>3.80</td>\n",
              "      <td>10.39</td>\n",
              "      <td>11.22</td>\n",
              "      <td>4.07</td>\n",
              "      <td>14.12</td>\n",
              "      <td>4.73</td>\n",
              "      <td>30.67</td>\n",
              "      <td>219.76</td>\n",
              "      <td>20.04</td>\n",
              "      <td>...</td>\n",
              "      <td>8.80</td>\n",
              "      <td>5.94</td>\n",
              "      <td>3.84</td>\n",
              "      <td>71.98</td>\n",
              "      <td>8.18</td>\n",
              "      <td>14.72</td>\n",
              "      <td>29.93</td>\n",
              "      <td>184.99</td>\n",
              "      <td>3.90</td>\n",
              "      <td>12.91</td>\n",
              "    </tr>\n",
              "    <tr>\n",
              "      <th>Soybeans</th>\n",
              "      <td>0.00</td>\n",
              "      <td>0.00</td>\n",
              "      <td>0.23</td>\n",
              "      <td>0.00</td>\n",
              "      <td>0.00</td>\n",
              "      <td>0.09</td>\n",
              "      <td>0.93</td>\n",
              "      <td>0.04</td>\n",
              "      <td>0.27</td>\n",
              "      <td>0.05</td>\n",
              "      <td>...</td>\n",
              "      <td>0.02</td>\n",
              "      <td>0.00</td>\n",
              "      <td>0.01</td>\n",
              "      <td>0.04</td>\n",
              "      <td>0.02</td>\n",
              "      <td>0.00</td>\n",
              "      <td>0.00</td>\n",
              "      <td>2.59</td>\n",
              "      <td>3.29</td>\n",
              "      <td>0.24</td>\n",
              "    </tr>\n",
              "    <tr>\n",
              "      <th>Wheat and Wheat Products</th>\n",
              "      <td>26.44</td>\n",
              "      <td>35.36</td>\n",
              "      <td>7.77</td>\n",
              "      <td>19.66</td>\n",
              "      <td>24.91</td>\n",
              "      <td>13.44</td>\n",
              "      <td>15.47</td>\n",
              "      <td>7.62</td>\n",
              "      <td>3.33</td>\n",
              "      <td>12.53</td>\n",
              "      <td>...</td>\n",
              "      <td>15.34</td>\n",
              "      <td>1.93</td>\n",
              "      <td>20.05</td>\n",
              "      <td>19.32</td>\n",
              "      <td>18.81</td>\n",
              "      <td>20.85</td>\n",
              "      <td>9.38</td>\n",
              "      <td>2.00</td>\n",
              "      <td>2.31</td>\n",
              "      <td>5.97</td>\n",
              "    </tr>\n",
              "  </tbody>\n",
              "</table>\n",
              "<p>22 rows × 130 columns</p>\n",
              "</div>\n",
              "      <button class=\"colab-df-convert\" onclick=\"convertToInteractive('df-8a4c299a-a239-4aba-baff-fb449af2d8d2')\"\n",
              "              title=\"Convert this dataframe to an interactive table.\"\n",
              "              style=\"display:none;\">\n",
              "        \n",
              "  <svg xmlns=\"http://www.w3.org/2000/svg\" height=\"24px\"viewBox=\"0 0 24 24\"\n",
              "       width=\"24px\">\n",
              "    <path d=\"M0 0h24v24H0V0z\" fill=\"none\"/>\n",
              "    <path d=\"M18.56 5.44l.94 2.06.94-2.06 2.06-.94-2.06-.94-.94-2.06-.94 2.06-2.06.94zm-11 1L8.5 8.5l.94-2.06 2.06-.94-2.06-.94L8.5 2.5l-.94 2.06-2.06.94zm10 10l.94 2.06.94-2.06 2.06-.94-2.06-.94-.94-2.06-.94 2.06-2.06.94z\"/><path d=\"M17.41 7.96l-1.37-1.37c-.4-.4-.92-.59-1.43-.59-.52 0-1.04.2-1.43.59L10.3 9.45l-7.72 7.72c-.78.78-.78 2.05 0 2.83L4 21.41c.39.39.9.59 1.41.59.51 0 1.02-.2 1.41-.59l7.78-7.78 2.81-2.81c.8-.78.8-2.07 0-2.86zM5.41 20L4 18.59l7.72-7.72 1.47 1.35L5.41 20z\"/>\n",
              "  </svg>\n",
              "      </button>\n",
              "      \n",
              "  <style>\n",
              "    .colab-df-container {\n",
              "      display:flex;\n",
              "      flex-wrap:wrap;\n",
              "      gap: 12px;\n",
              "    }\n",
              "\n",
              "    .colab-df-convert {\n",
              "      background-color: #E8F0FE;\n",
              "      border: none;\n",
              "      border-radius: 50%;\n",
              "      cursor: pointer;\n",
              "      display: none;\n",
              "      fill: #1967D2;\n",
              "      height: 32px;\n",
              "      padding: 0 0 0 0;\n",
              "      width: 32px;\n",
              "    }\n",
              "\n",
              "    .colab-df-convert:hover {\n",
              "      background-color: #E2EBFA;\n",
              "      box-shadow: 0px 1px 2px rgba(60, 64, 67, 0.3), 0px 1px 3px 1px rgba(60, 64, 67, 0.15);\n",
              "      fill: #174EA6;\n",
              "    }\n",
              "\n",
              "    [theme=dark] .colab-df-convert {\n",
              "      background-color: #3B4455;\n",
              "      fill: #D2E3FC;\n",
              "    }\n",
              "\n",
              "    [theme=dark] .colab-df-convert:hover {\n",
              "      background-color: #434B5C;\n",
              "      box-shadow: 0px 1px 3px 1px rgba(0, 0, 0, 0.15);\n",
              "      filter: drop-shadow(0px 1px 2px rgba(0, 0, 0, 0.3));\n",
              "      fill: #FFFFFF;\n",
              "    }\n",
              "  </style>\n",
              "\n",
              "      <script>\n",
              "        const buttonEl =\n",
              "          document.querySelector('#df-8a4c299a-a239-4aba-baff-fb449af2d8d2 button.colab-df-convert');\n",
              "        buttonEl.style.display =\n",
              "          google.colab.kernel.accessAllowed ? 'block' : 'none';\n",
              "\n",
              "        async function convertToInteractive(key) {\n",
              "          const element = document.querySelector('#df-8a4c299a-a239-4aba-baff-fb449af2d8d2');\n",
              "          const dataTable =\n",
              "            await google.colab.kernel.invokeFunction('convertToInteractive',\n",
              "                                                     [key], {});\n",
              "          if (!dataTable) return;\n",
              "\n",
              "          const docLinkHtml = 'Like what you see? Visit the ' +\n",
              "            '<a target=\"_blank\" href=https://colab.research.google.com/notebooks/data_table.ipynb>data table notebook</a>'\n",
              "            + ' to learn more about interactive tables.';\n",
              "          element.innerHTML = '';\n",
              "          dataTable['output_type'] = 'display_data';\n",
              "          await google.colab.output.renderOutput(dataTable, element);\n",
              "          const docLink = document.createElement('div');\n",
              "          docLink.innerHTML = docLinkHtml;\n",
              "          element.appendChild(docLink);\n",
              "        }\n",
              "      </script>\n",
              "    </div>\n",
              "  </div>\n",
              "  "
            ]
          },
          "metadata": {},
          "execution_count": 63
        }
      ]
    },
    {
      "cell_type": "markdown",
      "source": [
        "## Advance wrangling with Pandas"
      ],
      "metadata": {
        "id": "vLamjOPW1o1F"
      }
    },
    {
      "cell_type": "code",
      "source": [
        " link = \"https://raw.githubusercontent.com/rfordatascience/tidytuesday/master/data/2020/2020-01-14/passwords.csv\"\n",
        " df = pd.read_csv(link)\n",
        "# We only required following columns\n",
        "req_cols = [\"password\", \"value\", \"time_unit\"]\n",
        "\n",
        "df[req_cols]"
      ],
      "metadata": {
        "colab": {
          "base_uri": "https://localhost:8080/",
          "height": 424
        },
        "id": "vKPrncXw9pth",
        "outputId": "3ea43fa0-76d1-489d-acad-46f7e5478462"
      },
      "execution_count": 85,
      "outputs": [
        {
          "output_type": "execute_result",
          "data": {
            "text/plain": [
              "     password  value time_unit\n",
              "0    password   6.91     years\n",
              "1      123456  18.52   minutes\n",
              "2    12345678   1.29      days\n",
              "3        1234  11.11   seconds\n",
              "4      qwerty   3.72      days\n",
              "..        ...    ...       ...\n",
              "502       NaN    NaN       NaN\n",
              "503       NaN    NaN       NaN\n",
              "504       NaN    NaN       NaN\n",
              "505       NaN    NaN       NaN\n",
              "506       NaN    NaN       NaN\n",
              "\n",
              "[507 rows x 3 columns]"
            ],
            "text/html": [
              "\n",
              "  <div id=\"df-b0d5dab2-17c0-4f60-9d50-fd26cab7562b\">\n",
              "    <div class=\"colab-df-container\">\n",
              "      <div>\n",
              "<style scoped>\n",
              "    .dataframe tbody tr th:only-of-type {\n",
              "        vertical-align: middle;\n",
              "    }\n",
              "\n",
              "    .dataframe tbody tr th {\n",
              "        vertical-align: top;\n",
              "    }\n",
              "\n",
              "    .dataframe thead th {\n",
              "        text-align: right;\n",
              "    }\n",
              "</style>\n",
              "<table border=\"1\" class=\"dataframe\">\n",
              "  <thead>\n",
              "    <tr style=\"text-align: right;\">\n",
              "      <th></th>\n",
              "      <th>password</th>\n",
              "      <th>value</th>\n",
              "      <th>time_unit</th>\n",
              "    </tr>\n",
              "  </thead>\n",
              "  <tbody>\n",
              "    <tr>\n",
              "      <th>0</th>\n",
              "      <td>password</td>\n",
              "      <td>6.91</td>\n",
              "      <td>years</td>\n",
              "    </tr>\n",
              "    <tr>\n",
              "      <th>1</th>\n",
              "      <td>123456</td>\n",
              "      <td>18.52</td>\n",
              "      <td>minutes</td>\n",
              "    </tr>\n",
              "    <tr>\n",
              "      <th>2</th>\n",
              "      <td>12345678</td>\n",
              "      <td>1.29</td>\n",
              "      <td>days</td>\n",
              "    </tr>\n",
              "    <tr>\n",
              "      <th>3</th>\n",
              "      <td>1234</td>\n",
              "      <td>11.11</td>\n",
              "      <td>seconds</td>\n",
              "    </tr>\n",
              "    <tr>\n",
              "      <th>4</th>\n",
              "      <td>qwerty</td>\n",
              "      <td>3.72</td>\n",
              "      <td>days</td>\n",
              "    </tr>\n",
              "    <tr>\n",
              "      <th>...</th>\n",
              "      <td>...</td>\n",
              "      <td>...</td>\n",
              "      <td>...</td>\n",
              "    </tr>\n",
              "    <tr>\n",
              "      <th>502</th>\n",
              "      <td>NaN</td>\n",
              "      <td>NaN</td>\n",
              "      <td>NaN</td>\n",
              "    </tr>\n",
              "    <tr>\n",
              "      <th>503</th>\n",
              "      <td>NaN</td>\n",
              "      <td>NaN</td>\n",
              "      <td>NaN</td>\n",
              "    </tr>\n",
              "    <tr>\n",
              "      <th>504</th>\n",
              "      <td>NaN</td>\n",
              "      <td>NaN</td>\n",
              "      <td>NaN</td>\n",
              "    </tr>\n",
              "    <tr>\n",
              "      <th>505</th>\n",
              "      <td>NaN</td>\n",
              "      <td>NaN</td>\n",
              "      <td>NaN</td>\n",
              "    </tr>\n",
              "    <tr>\n",
              "      <th>506</th>\n",
              "      <td>NaN</td>\n",
              "      <td>NaN</td>\n",
              "      <td>NaN</td>\n",
              "    </tr>\n",
              "  </tbody>\n",
              "</table>\n",
              "<p>507 rows × 3 columns</p>\n",
              "</div>\n",
              "      <button class=\"colab-df-convert\" onclick=\"convertToInteractive('df-b0d5dab2-17c0-4f60-9d50-fd26cab7562b')\"\n",
              "              title=\"Convert this dataframe to an interactive table.\"\n",
              "              style=\"display:none;\">\n",
              "        \n",
              "  <svg xmlns=\"http://www.w3.org/2000/svg\" height=\"24px\"viewBox=\"0 0 24 24\"\n",
              "       width=\"24px\">\n",
              "    <path d=\"M0 0h24v24H0V0z\" fill=\"none\"/>\n",
              "    <path d=\"M18.56 5.44l.94 2.06.94-2.06 2.06-.94-2.06-.94-.94-2.06-.94 2.06-2.06.94zm-11 1L8.5 8.5l.94-2.06 2.06-.94-2.06-.94L8.5 2.5l-.94 2.06-2.06.94zm10 10l.94 2.06.94-2.06 2.06-.94-2.06-.94-.94-2.06-.94 2.06-2.06.94z\"/><path d=\"M17.41 7.96l-1.37-1.37c-.4-.4-.92-.59-1.43-.59-.52 0-1.04.2-1.43.59L10.3 9.45l-7.72 7.72c-.78.78-.78 2.05 0 2.83L4 21.41c.39.39.9.59 1.41.59.51 0 1.02-.2 1.41-.59l7.78-7.78 2.81-2.81c.8-.78.8-2.07 0-2.86zM5.41 20L4 18.59l7.72-7.72 1.47 1.35L5.41 20z\"/>\n",
              "  </svg>\n",
              "      </button>\n",
              "      \n",
              "  <style>\n",
              "    .colab-df-container {\n",
              "      display:flex;\n",
              "      flex-wrap:wrap;\n",
              "      gap: 12px;\n",
              "    }\n",
              "\n",
              "    .colab-df-convert {\n",
              "      background-color: #E8F0FE;\n",
              "      border: none;\n",
              "      border-radius: 50%;\n",
              "      cursor: pointer;\n",
              "      display: none;\n",
              "      fill: #1967D2;\n",
              "      height: 32px;\n",
              "      padding: 0 0 0 0;\n",
              "      width: 32px;\n",
              "    }\n",
              "\n",
              "    .colab-df-convert:hover {\n",
              "      background-color: #E2EBFA;\n",
              "      box-shadow: 0px 1px 2px rgba(60, 64, 67, 0.3), 0px 1px 3px 1px rgba(60, 64, 67, 0.15);\n",
              "      fill: #174EA6;\n",
              "    }\n",
              "\n",
              "    [theme=dark] .colab-df-convert {\n",
              "      background-color: #3B4455;\n",
              "      fill: #D2E3FC;\n",
              "    }\n",
              "\n",
              "    [theme=dark] .colab-df-convert:hover {\n",
              "      background-color: #434B5C;\n",
              "      box-shadow: 0px 1px 3px 1px rgba(0, 0, 0, 0.15);\n",
              "      filter: drop-shadow(0px 1px 2px rgba(0, 0, 0, 0.3));\n",
              "      fill: #FFFFFF;\n",
              "    }\n",
              "  </style>\n",
              "\n",
              "      <script>\n",
              "        const buttonEl =\n",
              "          document.querySelector('#df-b0d5dab2-17c0-4f60-9d50-fd26cab7562b button.colab-df-convert');\n",
              "        buttonEl.style.display =\n",
              "          google.colab.kernel.accessAllowed ? 'block' : 'none';\n",
              "\n",
              "        async function convertToInteractive(key) {\n",
              "          const element = document.querySelector('#df-b0d5dab2-17c0-4f60-9d50-fd26cab7562b');\n",
              "          const dataTable =\n",
              "            await google.colab.kernel.invokeFunction('convertToInteractive',\n",
              "                                                     [key], {});\n",
              "          if (!dataTable) return;\n",
              "\n",
              "          const docLinkHtml = 'Like what you see? Visit the ' +\n",
              "            '<a target=\"_blank\" href=https://colab.research.google.com/notebooks/data_table.ipynb>data table notebook</a>'\n",
              "            + ' to learn more about interactive tables.';\n",
              "          element.innerHTML = '';\n",
              "          dataTable['output_type'] = 'display_data';\n",
              "          await google.colab.output.renderOutput(dataTable, element);\n",
              "          const docLink = document.createElement('div');\n",
              "          docLink.innerHTML = docLinkHtml;\n",
              "          element.appendChild(docLink);\n",
              "        }\n",
              "      </script>\n",
              "    </div>\n",
              "  </div>\n",
              "  "
            ]
          },
          "metadata": {},
          "execution_count": 85
        }
      ]
    },
    {
      "cell_type": "code",
      "source": [
        "# We only required following columns\n",
        "req_cols = [\"password\", \"value\", \"time_unit\"]\n",
        "\n",
        "# Import using only these columns\n",
        "df1 = pd.read_csv(link, usecols=req_cols, skipfooter=7, engine=\"python\")\n",
        "df1"
      ],
      "metadata": {
        "colab": {
          "base_uri": "https://localhost:8080/",
          "height": 424
        },
        "id": "iW6F4_YfBr_O",
        "outputId": "0faeae6d-054c-4c6f-d802-a706bf9573bb"
      },
      "execution_count": 88,
      "outputs": [
        {
          "output_type": "execute_result",
          "data": {
            "text/plain": [
              "     password  value time_unit\n",
              "0    password   6.91     years\n",
              "1      123456  18.52   minutes\n",
              "2    12345678   1.29      days\n",
              "3        1234  11.11   seconds\n",
              "4      qwerty   3.72      days\n",
              "..        ...    ...       ...\n",
              "495    reddog   3.72      days\n",
              "496  alexande   6.91     years\n",
              "497   college   3.19    months\n",
              "498    jester   3.72      days\n",
              "499  passw0rd  92.27     years\n",
              "\n",
              "[500 rows x 3 columns]"
            ],
            "text/html": [
              "\n",
              "  <div id=\"df-94fdda5e-9e8f-4d53-9e4d-0dceceb20805\">\n",
              "    <div class=\"colab-df-container\">\n",
              "      <div>\n",
              "<style scoped>\n",
              "    .dataframe tbody tr th:only-of-type {\n",
              "        vertical-align: middle;\n",
              "    }\n",
              "\n",
              "    .dataframe tbody tr th {\n",
              "        vertical-align: top;\n",
              "    }\n",
              "\n",
              "    .dataframe thead th {\n",
              "        text-align: right;\n",
              "    }\n",
              "</style>\n",
              "<table border=\"1\" class=\"dataframe\">\n",
              "  <thead>\n",
              "    <tr style=\"text-align: right;\">\n",
              "      <th></th>\n",
              "      <th>password</th>\n",
              "      <th>value</th>\n",
              "      <th>time_unit</th>\n",
              "    </tr>\n",
              "  </thead>\n",
              "  <tbody>\n",
              "    <tr>\n",
              "      <th>0</th>\n",
              "      <td>password</td>\n",
              "      <td>6.91</td>\n",
              "      <td>years</td>\n",
              "    </tr>\n",
              "    <tr>\n",
              "      <th>1</th>\n",
              "      <td>123456</td>\n",
              "      <td>18.52</td>\n",
              "      <td>minutes</td>\n",
              "    </tr>\n",
              "    <tr>\n",
              "      <th>2</th>\n",
              "      <td>12345678</td>\n",
              "      <td>1.29</td>\n",
              "      <td>days</td>\n",
              "    </tr>\n",
              "    <tr>\n",
              "      <th>3</th>\n",
              "      <td>1234</td>\n",
              "      <td>11.11</td>\n",
              "      <td>seconds</td>\n",
              "    </tr>\n",
              "    <tr>\n",
              "      <th>4</th>\n",
              "      <td>qwerty</td>\n",
              "      <td>3.72</td>\n",
              "      <td>days</td>\n",
              "    </tr>\n",
              "    <tr>\n",
              "      <th>...</th>\n",
              "      <td>...</td>\n",
              "      <td>...</td>\n",
              "      <td>...</td>\n",
              "    </tr>\n",
              "    <tr>\n",
              "      <th>495</th>\n",
              "      <td>reddog</td>\n",
              "      <td>3.72</td>\n",
              "      <td>days</td>\n",
              "    </tr>\n",
              "    <tr>\n",
              "      <th>496</th>\n",
              "      <td>alexande</td>\n",
              "      <td>6.91</td>\n",
              "      <td>years</td>\n",
              "    </tr>\n",
              "    <tr>\n",
              "      <th>497</th>\n",
              "      <td>college</td>\n",
              "      <td>3.19</td>\n",
              "      <td>months</td>\n",
              "    </tr>\n",
              "    <tr>\n",
              "      <th>498</th>\n",
              "      <td>jester</td>\n",
              "      <td>3.72</td>\n",
              "      <td>days</td>\n",
              "    </tr>\n",
              "    <tr>\n",
              "      <th>499</th>\n",
              "      <td>passw0rd</td>\n",
              "      <td>92.27</td>\n",
              "      <td>years</td>\n",
              "    </tr>\n",
              "  </tbody>\n",
              "</table>\n",
              "<p>500 rows × 3 columns</p>\n",
              "</div>\n",
              "      <button class=\"colab-df-convert\" onclick=\"convertToInteractive('df-94fdda5e-9e8f-4d53-9e4d-0dceceb20805')\"\n",
              "              title=\"Convert this dataframe to an interactive table.\"\n",
              "              style=\"display:none;\">\n",
              "        \n",
              "  <svg xmlns=\"http://www.w3.org/2000/svg\" height=\"24px\"viewBox=\"0 0 24 24\"\n",
              "       width=\"24px\">\n",
              "    <path d=\"M0 0h24v24H0V0z\" fill=\"none\"/>\n",
              "    <path d=\"M18.56 5.44l.94 2.06.94-2.06 2.06-.94-2.06-.94-.94-2.06-.94 2.06-2.06.94zm-11 1L8.5 8.5l.94-2.06 2.06-.94-2.06-.94L8.5 2.5l-.94 2.06-2.06.94zm10 10l.94 2.06.94-2.06 2.06-.94-2.06-.94-.94-2.06-.94 2.06-2.06.94z\"/><path d=\"M17.41 7.96l-1.37-1.37c-.4-.4-.92-.59-1.43-.59-.52 0-1.04.2-1.43.59L10.3 9.45l-7.72 7.72c-.78.78-.78 2.05 0 2.83L4 21.41c.39.39.9.59 1.41.59.51 0 1.02-.2 1.41-.59l7.78-7.78 2.81-2.81c.8-.78.8-2.07 0-2.86zM5.41 20L4 18.59l7.72-7.72 1.47 1.35L5.41 20z\"/>\n",
              "  </svg>\n",
              "      </button>\n",
              "      \n",
              "  <style>\n",
              "    .colab-df-container {\n",
              "      display:flex;\n",
              "      flex-wrap:wrap;\n",
              "      gap: 12px;\n",
              "    }\n",
              "\n",
              "    .colab-df-convert {\n",
              "      background-color: #E8F0FE;\n",
              "      border: none;\n",
              "      border-radius: 50%;\n",
              "      cursor: pointer;\n",
              "      display: none;\n",
              "      fill: #1967D2;\n",
              "      height: 32px;\n",
              "      padding: 0 0 0 0;\n",
              "      width: 32px;\n",
              "    }\n",
              "\n",
              "    .colab-df-convert:hover {\n",
              "      background-color: #E2EBFA;\n",
              "      box-shadow: 0px 1px 2px rgba(60, 64, 67, 0.3), 0px 1px 3px 1px rgba(60, 64, 67, 0.15);\n",
              "      fill: #174EA6;\n",
              "    }\n",
              "\n",
              "    [theme=dark] .colab-df-convert {\n",
              "      background-color: #3B4455;\n",
              "      fill: #D2E3FC;\n",
              "    }\n",
              "\n",
              "    [theme=dark] .colab-df-convert:hover {\n",
              "      background-color: #434B5C;\n",
              "      box-shadow: 0px 1px 3px 1px rgba(0, 0, 0, 0.15);\n",
              "      filter: drop-shadow(0px 1px 2px rgba(0, 0, 0, 0.3));\n",
              "      fill: #FFFFFF;\n",
              "    }\n",
              "  </style>\n",
              "\n",
              "      <script>\n",
              "        const buttonEl =\n",
              "          document.querySelector('#df-94fdda5e-9e8f-4d53-9e4d-0dceceb20805 button.colab-df-convert');\n",
              "        buttonEl.style.display =\n",
              "          google.colab.kernel.accessAllowed ? 'block' : 'none';\n",
              "\n",
              "        async function convertToInteractive(key) {\n",
              "          const element = document.querySelector('#df-94fdda5e-9e8f-4d53-9e4d-0dceceb20805');\n",
              "          const dataTable =\n",
              "            await google.colab.kernel.invokeFunction('convertToInteractive',\n",
              "                                                     [key], {});\n",
              "          if (!dataTable) return;\n",
              "\n",
              "          const docLinkHtml = 'Like what you see? Visit the ' +\n",
              "            '<a target=\"_blank\" href=https://colab.research.google.com/notebooks/data_table.ipynb>data table notebook</a>'\n",
              "            + ' to learn more about interactive tables.';\n",
              "          element.innerHTML = '';\n",
              "          dataTable['output_type'] = 'display_data';\n",
              "          await google.colab.output.renderOutput(dataTable, element);\n",
              "          const docLink = document.createElement('div');\n",
              "          docLink.innerHTML = docLinkHtml;\n",
              "          element.appendChild(docLink);\n",
              "        }\n",
              "      </script>\n",
              "    </div>\n",
              "  </div>\n",
              "  "
            ]
          },
          "metadata": {},
          "execution_count": 88
        }
      ]
    },
    {
      "cell_type": "code",
      "source": [
        "\"\"\"\n",
        "An online password attack is when someone tries to hack your account by simply trying a very large number of username/password combinations to access your account. \n",
        "For each password in our dataset, the value column shows the amount of time it is estimated to take an \"online password attack\" to hack your account. \n",
        "The column time_unit shows the units of that time value (e.g., hours, days, years, etc.)\n",
        "\n",
        "It would be much nicer if our values were of the same units so we can more easily compare the \"online password guessing time\" for each password. \n",
        "So your first task is to convert all of the values to units of hours (assume the conversion units I've provided below, e.g., 1 day is 24 hours, 1 week is 168 hours, etc).\n",
        "\"\"\"\n",
        "\n",
        "units = {\n",
        "    \"seconds\" : 1/360,\n",
        "    \"minutes\" : 1/60,\n",
        "    \"days\": 24,\n",
        "    \"weeks\": 24*7,\n",
        "    \"months\": 720,\n",
        "    \"years\": 8760\n",
        "}\n",
        "\n",
        "for key, value in units.items():\n",
        "  df1.loc[df1[\"time_unit\"] == key, \"value\"] *= value\n",
        "\n",
        "df1[\"time_unit\"] = \"hours\"\n",
        "df1"
      ],
      "metadata": {
        "colab": {
          "base_uri": "https://localhost:8080/",
          "height": 424
        },
        "id": "ttnMBGDeCdFi",
        "outputId": "b2d728ee-7aa8-4877-bec5-9606fbcfb417"
      },
      "execution_count": 89,
      "outputs": [
        {
          "output_type": "execute_result",
          "data": {
            "text/plain": [
              "     password          value time_unit\n",
              "0    password   60531.600000     hours\n",
              "1      123456       0.308667     hours\n",
              "2    12345678      30.960000     hours\n",
              "3        1234       0.030861     hours\n",
              "4      qwerty      89.280000     hours\n",
              "..        ...            ...       ...\n",
              "495    reddog      89.280000     hours\n",
              "496  alexande   60531.600000     hours\n",
              "497   college    2296.800000     hours\n",
              "498    jester      89.280000     hours\n",
              "499  passw0rd  808285.200000     hours\n",
              "\n",
              "[500 rows x 3 columns]"
            ],
            "text/html": [
              "\n",
              "  <div id=\"df-22910700-af2f-4331-9a0a-f35f9138d63e\">\n",
              "    <div class=\"colab-df-container\">\n",
              "      <div>\n",
              "<style scoped>\n",
              "    .dataframe tbody tr th:only-of-type {\n",
              "        vertical-align: middle;\n",
              "    }\n",
              "\n",
              "    .dataframe tbody tr th {\n",
              "        vertical-align: top;\n",
              "    }\n",
              "\n",
              "    .dataframe thead th {\n",
              "        text-align: right;\n",
              "    }\n",
              "</style>\n",
              "<table border=\"1\" class=\"dataframe\">\n",
              "  <thead>\n",
              "    <tr style=\"text-align: right;\">\n",
              "      <th></th>\n",
              "      <th>password</th>\n",
              "      <th>value</th>\n",
              "      <th>time_unit</th>\n",
              "    </tr>\n",
              "  </thead>\n",
              "  <tbody>\n",
              "    <tr>\n",
              "      <th>0</th>\n",
              "      <td>password</td>\n",
              "      <td>60531.600000</td>\n",
              "      <td>hours</td>\n",
              "    </tr>\n",
              "    <tr>\n",
              "      <th>1</th>\n",
              "      <td>123456</td>\n",
              "      <td>0.308667</td>\n",
              "      <td>hours</td>\n",
              "    </tr>\n",
              "    <tr>\n",
              "      <th>2</th>\n",
              "      <td>12345678</td>\n",
              "      <td>30.960000</td>\n",
              "      <td>hours</td>\n",
              "    </tr>\n",
              "    <tr>\n",
              "      <th>3</th>\n",
              "      <td>1234</td>\n",
              "      <td>0.030861</td>\n",
              "      <td>hours</td>\n",
              "    </tr>\n",
              "    <tr>\n",
              "      <th>4</th>\n",
              "      <td>qwerty</td>\n",
              "      <td>89.280000</td>\n",
              "      <td>hours</td>\n",
              "    </tr>\n",
              "    <tr>\n",
              "      <th>...</th>\n",
              "      <td>...</td>\n",
              "      <td>...</td>\n",
              "      <td>...</td>\n",
              "    </tr>\n",
              "    <tr>\n",
              "      <th>495</th>\n",
              "      <td>reddog</td>\n",
              "      <td>89.280000</td>\n",
              "      <td>hours</td>\n",
              "    </tr>\n",
              "    <tr>\n",
              "      <th>496</th>\n",
              "      <td>alexande</td>\n",
              "      <td>60531.600000</td>\n",
              "      <td>hours</td>\n",
              "    </tr>\n",
              "    <tr>\n",
              "      <th>497</th>\n",
              "      <td>college</td>\n",
              "      <td>2296.800000</td>\n",
              "      <td>hours</td>\n",
              "    </tr>\n",
              "    <tr>\n",
              "      <th>498</th>\n",
              "      <td>jester</td>\n",
              "      <td>89.280000</td>\n",
              "      <td>hours</td>\n",
              "    </tr>\n",
              "    <tr>\n",
              "      <th>499</th>\n",
              "      <td>passw0rd</td>\n",
              "      <td>808285.200000</td>\n",
              "      <td>hours</td>\n",
              "    </tr>\n",
              "  </tbody>\n",
              "</table>\n",
              "<p>500 rows × 3 columns</p>\n",
              "</div>\n",
              "      <button class=\"colab-df-convert\" onclick=\"convertToInteractive('df-22910700-af2f-4331-9a0a-f35f9138d63e')\"\n",
              "              title=\"Convert this dataframe to an interactive table.\"\n",
              "              style=\"display:none;\">\n",
              "        \n",
              "  <svg xmlns=\"http://www.w3.org/2000/svg\" height=\"24px\"viewBox=\"0 0 24 24\"\n",
              "       width=\"24px\">\n",
              "    <path d=\"M0 0h24v24H0V0z\" fill=\"none\"/>\n",
              "    <path d=\"M18.56 5.44l.94 2.06.94-2.06 2.06-.94-2.06-.94-.94-2.06-.94 2.06-2.06.94zm-11 1L8.5 8.5l.94-2.06 2.06-.94-2.06-.94L8.5 2.5l-.94 2.06-2.06.94zm10 10l.94 2.06.94-2.06 2.06-.94-2.06-.94-.94-2.06-.94 2.06-2.06.94z\"/><path d=\"M17.41 7.96l-1.37-1.37c-.4-.4-.92-.59-1.43-.59-.52 0-1.04.2-1.43.59L10.3 9.45l-7.72 7.72c-.78.78-.78 2.05 0 2.83L4 21.41c.39.39.9.59 1.41.59.51 0 1.02-.2 1.41-.59l7.78-7.78 2.81-2.81c.8-.78.8-2.07 0-2.86zM5.41 20L4 18.59l7.72-7.72 1.47 1.35L5.41 20z\"/>\n",
              "  </svg>\n",
              "      </button>\n",
              "      \n",
              "  <style>\n",
              "    .colab-df-container {\n",
              "      display:flex;\n",
              "      flex-wrap:wrap;\n",
              "      gap: 12px;\n",
              "    }\n",
              "\n",
              "    .colab-df-convert {\n",
              "      background-color: #E8F0FE;\n",
              "      border: none;\n",
              "      border-radius: 50%;\n",
              "      cursor: pointer;\n",
              "      display: none;\n",
              "      fill: #1967D2;\n",
              "      height: 32px;\n",
              "      padding: 0 0 0 0;\n",
              "      width: 32px;\n",
              "    }\n",
              "\n",
              "    .colab-df-convert:hover {\n",
              "      background-color: #E2EBFA;\n",
              "      box-shadow: 0px 1px 2px rgba(60, 64, 67, 0.3), 0px 1px 3px 1px rgba(60, 64, 67, 0.15);\n",
              "      fill: #174EA6;\n",
              "    }\n",
              "\n",
              "    [theme=dark] .colab-df-convert {\n",
              "      background-color: #3B4455;\n",
              "      fill: #D2E3FC;\n",
              "    }\n",
              "\n",
              "    [theme=dark] .colab-df-convert:hover {\n",
              "      background-color: #434B5C;\n",
              "      box-shadow: 0px 1px 3px 1px rgba(0, 0, 0, 0.15);\n",
              "      filter: drop-shadow(0px 1px 2px rgba(0, 0, 0, 0.3));\n",
              "      fill: #FFFFFF;\n",
              "    }\n",
              "  </style>\n",
              "\n",
              "      <script>\n",
              "        const buttonEl =\n",
              "          document.querySelector('#df-22910700-af2f-4331-9a0a-f35f9138d63e button.colab-df-convert');\n",
              "        buttonEl.style.display =\n",
              "          google.colab.kernel.accessAllowed ? 'block' : 'none';\n",
              "\n",
              "        async function convertToInteractive(key) {\n",
              "          const element = document.querySelector('#df-22910700-af2f-4331-9a0a-f35f9138d63e');\n",
              "          const dataTable =\n",
              "            await google.colab.kernel.invokeFunction('convertToInteractive',\n",
              "                                                     [key], {});\n",
              "          if (!dataTable) return;\n",
              "\n",
              "          const docLinkHtml = 'Like what you see? Visit the ' +\n",
              "            '<a target=\"_blank\" href=https://colab.research.google.com/notebooks/data_table.ipynb>data table notebook</a>'\n",
              "            + ' to learn more about interactive tables.';\n",
              "          element.innerHTML = '';\n",
              "          dataTable['output_type'] = 'display_data';\n",
              "          await google.colab.output.renderOutput(dataTable, element);\n",
              "          const docLink = document.createElement('div');\n",
              "          docLink.innerHTML = docLinkHtml;\n",
              "          element.appendChild(docLink);\n",
              "        }\n",
              "      </script>\n",
              "    </div>\n",
              "  </div>\n",
              "  "
            ]
          },
          "metadata": {},
          "execution_count": 89
        }
      ]
    },
    {
      "cell_type": "code",
      "source": [
        "# How many password begin with the sequence 123?\n",
        "\n",
        "df1[\"password\"].str.contains(r\"^123\").sum()"
      ],
      "metadata": {
        "colab": {
          "base_uri": "https://localhost:8080/"
        },
        "id": "NKodcShZGoK8",
        "outputId": "7fd2c189-2c3c-4900-91c8-d6411b580d28"
      },
      "execution_count": 94,
      "outputs": [
        {
          "output_type": "execute_result",
          "data": {
            "text/plain": [
              "9"
            ]
          },
          "metadata": {},
          "execution_count": 94
        }
      ]
    }
  ]
}